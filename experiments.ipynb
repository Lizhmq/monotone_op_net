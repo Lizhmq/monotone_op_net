{
 "cells": [
  {
   "cell_type": "code",
   "execution_count": 1,
   "metadata": {},
   "outputs": [],
   "source": [
    "import os\n",
    "os.environ[\"CUDA_DEVICE_ORDER\"] = \"PCI_BUS_ID\"\n",
    "os.environ[\"CUDA_VISIBLE_DEVICES\"] = \"0\""
   ]
  },
  {
   "cell_type": "code",
   "execution_count": 2,
   "metadata": {},
   "outputs": [],
   "source": [
    "import splitting as sp\n",
    "import train"
   ]
  },
  {
   "source": [
    "### Multi-tier MON, CIFAR-10 - LeakyReLU"
   ],
   "cell_type": "markdown",
   "metadata": {}
  },
  {
   "cell_type": "code",
   "execution_count": null,
   "metadata": {},
   "outputs": [],
   "source": [
    "trainLoader, testLoader = train.cifar_loaders(train_batch_size=128, test_batch_size=400, augment=False)\n",
    "\n",
    "train.train(trainLoader, testLoader,\n",
    "      train.MultiConvNet(sp.MONPeacemanRachford,\n",
    "                        in_dim=32,\n",
    "                        in_channels=3,\n",
    "                        conv_sizes=(16,32,60),\n",
    "                        alpha=1.0,\n",
    "                        max_iter=300,\n",
    "                        tol=1e-2,\n",
    "                        m=1.0,\n",
    "                        leaky=True),    # CHANGE THIS TO LEAKYRELU !!!\n",
    "        max_lr=1e-2,\n",
    "        lr_mode='step',\n",
    "        step=10,\n",
    "        change_mo=False,\n",
    "        epochs=30,\n",
    "      #   epochs=1,\n",
    "        print_freq=100,\n",
    "        tune_alpha=True)"
   ]
  },
  {
   "cell_type": "markdown",
   "metadata": {},
   "source": [
    "### Multi-tier MON, CIFAR-10"
   ]
  },
  {
   "cell_type": "code",
   "execution_count": 3,
   "metadata": {
    "collapsed": false,
    "jupyter": {
     "outputs_hidden": false
    },
    "pycharm": {
     "name": "#%%\n"
    },
    "tags": []
   },
   "outputs": [
    {
     "output_type": "stream",
     "name": "stdout",
     "text": [
      "Files already downloaded and verified\n"
     ]
    }
   ],
   "source": [
    "trainLoader, testLoader = train.cifar_loaders(train_batch_size=128, test_batch_size=400, augment=False)\n",
    "\n",
    "train.train(trainLoader, testLoader,\n",
    "      train.MultiConvNet(sp.MONPeacemanRachford,\n",
    "                        in_dim=32,\n",
    "                        in_channels=3,\n",
    "                        conv_sizes=(16,32,60),\n",
    "                        alpha=1.0,\n",
    "                        max_iter=300,\n",
    "                        tol=1e-2,\n",
    "                        m=1.0),\n",
    "        max_lr=1e-2,\n",
    "        lr_mode='step',\n",
    "        step=10,\n",
    "        change_mo=False,\n",
    "        epochs=30,\n",
    "      #   epochs=1,\n",
    "        print_freq=100,\n",
    "        tune_alpha=True)"
   ]
  },
  {
   "cell_type": "code",
   "execution_count": 3,
   "metadata": {},
   "outputs": [
    {
     "output_type": "stream",
     "name": "stdout",
     "text": [
      "Files already downloaded and verified\n",
      "/var/data/anaconda3lz/anaconda3/envs/py37/lib/python3.7/site-packages/torch/nn/modules/container.py:435: UserWarning: Setting attributes on ParameterList is not supported.\n",
      "  warnings.warn(\"Setting attributes on ParameterList is not supported.\")\n",
      "----tuning alpha----\n",
      "current:  1.0\n",
      "alpha: 1.0\t iters: 300\n",
      "alpha: 0.5\t iters: 18\n",
      "alpha: 0.25\t iters: 18\n",
      "alpha: 0.125\t iters: 29\n",
      "setting to:  0.25\n",
      "--------------\n",
      "\n",
      "Train Epoch: 0.26 [12928/50000 (26%)]\tLoss: 2.2067\tError: 75.00\n",
      "Fwd iters: 17.03\tFwd Time: 0.1279\tBkwd Iters: 19.01\tBkwd Time: 0.1664\n",
      "\n",
      "----tuning alpha----\n",
      "current:  0.25\n",
      "alpha: 1.0\t iters: 300\n",
      "alpha: 0.5\t iters: 21\n",
      "alpha: 0.25\t iters: 17\n",
      "alpha: 0.125\t iters: 29\n",
      "setting to:  0.25\n",
      "--------------\n",
      "\n",
      "Train Epoch: 0.51 [25728/50000 (51%)]\tLoss: 2.2024\tError: 83.59\n",
      "Fwd iters: 17.00\tFwd Time: 0.1275\tBkwd Iters: 19.00\tBkwd Time: 0.1686\n",
      "\n",
      "Train Epoch: 0.77 [38528/50000 (77%)]\tLoss: 2.1825\tError: 76.56\n",
      "Fwd iters: 17.00\tFwd Time: 0.1277\tBkwd Iters: 19.00\tBkwd Time: 0.1656\n",
      "\n",
      "Tot train time: 202.96741676330566\n",
      "\n",
      "\n",
      "Test set: Average loss: 2.1463, Error: 7766/10000 (77.66%)\n",
      "Tot test time: 7.756564378738403\n",
      "\n",
      "\n",
      "\n",
      "\n",
      "----tuning alpha----\n",
      "current:  0.25\n",
      "alpha: 1.0\t iters: 300\n",
      "alpha: 0.5\t iters: 300\n",
      "alpha: 0.25\t iters: 17\n",
      "alpha: 0.125\t iters: 29\n",
      "setting to:  0.25\n",
      "--------------\n",
      "\n",
      "Train Epoch: 1.26 [12928/50000 (26%)]\tLoss: 2.2198\tError: 83.59\n",
      "Fwd iters: 17.00\tFwd Time: 0.1276\tBkwd Iters: 19.06\tBkwd Time: 0.1663\n",
      "\n"
     ]
    }
   ],
   "source": [
    "trainLoader, testLoader = train.cifar_loaders(train_batch_size=128, test_batch_size=400, augment=False)\n",
    "\n",
    "train.train(trainLoader, testLoader,\n",
    "      train.MultiConvNet(sp.MONForwardBackwardSplitting,\n",
    "                        in_dim=32,\n",
    "                        in_channels=3,\n",
    "                        conv_sizes=(16,32,60),\n",
    "                        alpha=1.0,\n",
    "                        max_iter=300,\n",
    "                        tol=1e-2,\n",
    "                        m=1.0),\n",
    "        max_lr=1e-2,\n",
    "        lr_mode='step',\n",
    "        step=10,\n",
    "        change_mo=False,\n",
    "        epochs=30,\n",
    "      #   epochs=1,\n",
    "        print_freq=100,\n",
    "        tune_alpha=True)"
   ]
  },
  {
   "cell_type": "code",
   "execution_count": 3,
   "metadata": {},
   "outputs": [
    {
     "output_type": "stream",
     "name": "stdout",
     "text": [
      "Files already downloaded and verified\n",
      "/var/data/anaconda3lz/anaconda3/envs/py37/lib/python3.7/site-packages/torch/nn/modules/container.py:435: UserWarning: Setting attributes on ParameterList is not supported.\n",
      "  warnings.warn(\"Setting attributes on ParameterList is not supported.\")\n",
      "/var/data/lzzz/monotone_op_net/mon.py:93: UserWarning: The function torch.rfft is deprecated and will be removed in a future PyTorch release. Use the new torch.fft module functions, instead, by importing torch.fft and calling torch.fft.fft or torch.fft.rfft. (Triggered internally at  /opt/conda/conda-bld/pytorch_1607370128159/work/aten/src/ATen/native/SpectralOps.cpp:590.)\n",
      "  return fft_to_complex_matrix(torch.rfft(kernel, 2, onesided=False))\n",
      "/var/data/lzzz/monotone_op_net/mon.py:428: UserWarning: The function torch.irfft is deprecated and will be removed in a future PyTorch release. Use the new torch.fft module functions, instead, by importing torch.fft and calling torch.fft.ifft or torch.fft.irfft. (Triggered internally at  /opt/conda/conda-bld/pytorch_1607370128159/work/aten/src/ATen/native/SpectralOps.cpp:602.)\n",
      "  x0 = torch.irfft(x0, 2, onesided=False)\n",
      "----tuning alpha----\n",
      "current:  1.0\n",
      "alpha: 1.0\t iters: 19\n",
      "alpha: 0.5\t iters: 16\n",
      "alpha: 0.25\t iters: 21\n",
      "setting to:  0.5\n",
      "--------------\n",
      "\n",
      "Train Epoch: 0.26 [12928/50000 (26%)]\tLoss: 1.7690\tError: 64.06\n",
      "Fwd iters: 15.63\tFwd Time: 0.1471\tBkwd Iters: 14.31\tBkwd Time: 0.1313\n",
      "\n",
      "----tuning alpha----\n",
      "current:  0.5\n",
      "alpha: 1.0\t iters: 18\n",
      "alpha: 0.5\t iters: 16\n",
      "alpha: 0.25\t iters: 22\n",
      "setting to:  0.5\n",
      "--------------\n",
      "\n",
      "Train Epoch: 0.51 [25728/50000 (51%)]\tLoss: 1.4728\tError: 51.56\n",
      "Fwd iters: 15.50\tFwd Time: 0.1465\tBkwd Iters: 14.33\tBkwd Time: 0.1301\n",
      "\n",
      "Train Epoch: 0.77 [38528/50000 (77%)]\tLoss: 1.2889\tError: 45.31\n",
      "Fwd iters: 15.59\tFwd Time: 0.1472\tBkwd Iters: 14.95\tBkwd Time: 0.1354\n",
      "\n",
      "Tot train time: 129.56791734695435\n",
      "\n",
      "\n",
      "Test set: Average loss: 1.1791, Error: 4208/10000 (42.08%)\n",
      "Tot test time: 9.220458269119263\n",
      "\n",
      "\n",
      "\n",
      "\n",
      "----tuning alpha----\n",
      "current:  0.5\n",
      "alpha: 1.0\t iters: 19\n",
      "alpha: 0.5\t iters: 16\n",
      "alpha: 0.25\t iters: 22\n",
      "setting to:  0.5\n",
      "--------------\n",
      "\n"
     ]
    }
   ],
   "source": [
    "trainLoader, testLoader = train.cifar_loaders(train_batch_size=128, test_batch_size=400, augment=False)\n",
    "\n",
    "train.train(trainLoader, testLoader,\n",
    "      train.MultiConvNet(sp.MONDouglasRachford,\n",
    "                        in_dim=32,\n",
    "                        in_channels=3,\n",
    "                        conv_sizes=(16,32,60),\n",
    "                        alpha=1.0,\n",
    "                        max_iter=300,\n",
    "                        tol=1e-2,\n",
    "                        m=1.0),\n",
    "        max_lr=1e-2,\n",
    "        lr_mode='step',\n",
    "        step=10,\n",
    "        change_mo=False,\n",
    "        epochs=30,\n",
    "      #   epochs=1,\n",
    "        print_freq=100,\n",
    "        tune_alpha=True)"
   ]
  },
  {
   "cell_type": "code",
   "execution_count": 3,
   "metadata": {},
   "outputs": [
    {
     "output_type": "stream",
     "name": "stdout",
     "text": [
      "Files already downloaded and verified\n",
      "/var/data/anaconda3lz/anaconda3/envs/py37/lib/python3.7/site-packages/torch/nn/modules/container.py:435: UserWarning: Setting attributes on ParameterList is not supported.\n",
      "  warnings.warn(\"Setting attributes on ParameterList is not supported.\")\n",
      "/var/data/lzzz/monotone_op_net/mon.py:93: UserWarning: The function torch.rfft is deprecated and will be removed in a future PyTorch release. Use the new torch.fft module functions, instead, by importing torch.fft and calling torch.fft.fft or torch.fft.rfft. (Triggered internally at  /opt/conda/conda-bld/pytorch_1607370128159/work/aten/src/ATen/native/SpectralOps.cpp:590.)\n",
      "  return fft_to_complex_matrix(torch.rfft(kernel, 2, onesided=False))\n",
      "/var/data/lzzz/monotone_op_net/mon.py:428: UserWarning: The function torch.irfft is deprecated and will be removed in a future PyTorch release. Use the new torch.fft module functions, instead, by importing torch.fft and calling torch.fft.ifft or torch.fft.irfft. (Triggered internally at  /opt/conda/conda-bld/pytorch_1607370128159/work/aten/src/ATen/native/SpectralOps.cpp:602.)\n",
      "  x0 = torch.irfft(x0, 2, onesided=False)\n",
      "----tuning alpha----\n",
      "current:  1.0\n",
      "alpha: 1.0\t iters: 34\n",
      "alpha: 0.5\t iters: 27\n",
      "alpha: 0.25\t iters: 35\n",
      "setting to:  0.5\n",
      "--------------\n",
      "\n",
      "Train Epoch: 0.26 [12928/50000 (26%)]\tLoss: 1.6363\tError: 57.03\n",
      "Fwd iters: 26.73\tFwd Time: 0.2218\tBkwd Iters: 8.82\tBkwd Time: 0.0874\n",
      "\n",
      "----tuning alpha----\n",
      "current:  0.5\n",
      "alpha: 1.0\t iters: 32\n",
      "alpha: 0.5\t iters: 26\n",
      "alpha: 0.25\t iters: 34\n",
      "setting to:  0.5\n",
      "--------------\n",
      "\n",
      "Train Epoch: 0.51 [25728/50000 (51%)]\tLoss: 1.4096\tError: 49.22\n",
      "Fwd iters: 25.50\tFwd Time: 0.2133\tBkwd Iters: 8.00\tBkwd Time: 0.0818\n",
      "\n",
      "Train Epoch: 0.77 [38528/50000 (77%)]\tLoss: 1.3477\tError: 46.88\n",
      "Fwd iters: 26.07\tFwd Time: 0.2177\tBkwd Iters: 8.00\tBkwd Time: 0.0819\n",
      "\n",
      "Tot train time: 140.82405471801758\n"
     ]
    },
    {
     "output_type": "error",
     "ename": "KeyboardInterrupt",
     "evalue": "",
     "traceback": [
      "\u001b[0;31m---------------------------------------------------------------------------\u001b[0m",
      "\u001b[0;31mKeyboardInterrupt\u001b[0m                         Traceback (most recent call last)",
      "\u001b[0;32m<ipython-input-3-ca314ddb752f>\u001b[0m in \u001b[0;36m<module>\u001b[0;34m\u001b[0m\n\u001b[1;32m     17\u001b[0m       \u001b[0;31m#   epochs=1,\u001b[0m\u001b[0;34m\u001b[0m\u001b[0;34m\u001b[0m\u001b[0;34m\u001b[0m\u001b[0m\n\u001b[1;32m     18\u001b[0m         \u001b[0mprint_freq\u001b[0m\u001b[0;34m=\u001b[0m\u001b[0;36m100\u001b[0m\u001b[0;34m,\u001b[0m\u001b[0;34m\u001b[0m\u001b[0;34m\u001b[0m\u001b[0m\n\u001b[0;32m---> 19\u001b[0;31m         tune_alpha=True)\n\u001b[0m",
      "\u001b[0;32m/var/data/lzzz/monotone_op_net/train.py\u001b[0m in \u001b[0;36mtrain\u001b[0;34m(trainLoader, testLoader, model, epochs, max_lr, print_freq, change_mo, model_path, lr_mode, step, tune_alpha, max_alpha)\u001b[0m\n\u001b[1;32m     90\u001b[0m             \u001b[0;32mfor\u001b[0m \u001b[0mbatch\u001b[0m \u001b[0;32min\u001b[0m \u001b[0mtestLoader\u001b[0m\u001b[0;34m:\u001b[0m\u001b[0;34m\u001b[0m\u001b[0;34m\u001b[0m\u001b[0m\n\u001b[1;32m     91\u001b[0m                 \u001b[0mdata\u001b[0m\u001b[0;34m,\u001b[0m \u001b[0mtarget\u001b[0m \u001b[0;34m=\u001b[0m \u001b[0mcuda\u001b[0m\u001b[0;34m(\u001b[0m\u001b[0mbatch\u001b[0m\u001b[0;34m[\u001b[0m\u001b[0;36m0\u001b[0m\u001b[0;34m]\u001b[0m\u001b[0;34m)\u001b[0m\u001b[0;34m,\u001b[0m \u001b[0mcuda\u001b[0m\u001b[0;34m(\u001b[0m\u001b[0mbatch\u001b[0m\u001b[0;34m[\u001b[0m\u001b[0;36m1\u001b[0m\u001b[0;34m]\u001b[0m\u001b[0;34m)\u001b[0m\u001b[0;34m\u001b[0m\u001b[0;34m\u001b[0m\u001b[0m\n\u001b[0;32m---> 92\u001b[0;31m                 \u001b[0mpreds\u001b[0m \u001b[0;34m=\u001b[0m \u001b[0mmodel\u001b[0m\u001b[0;34m(\u001b[0m\u001b[0mdata\u001b[0m\u001b[0;34m)\u001b[0m\u001b[0;34m\u001b[0m\u001b[0;34m\u001b[0m\u001b[0m\n\u001b[0m\u001b[1;32m     93\u001b[0m                 \u001b[0mce_loss\u001b[0m \u001b[0;34m=\u001b[0m \u001b[0mnn\u001b[0m\u001b[0;34m.\u001b[0m\u001b[0mCrossEntropyLoss\u001b[0m\u001b[0;34m(\u001b[0m\u001b[0mreduction\u001b[0m\u001b[0;34m=\u001b[0m\u001b[0;34m'sum'\u001b[0m\u001b[0;34m)\u001b[0m\u001b[0;34m(\u001b[0m\u001b[0mpreds\u001b[0m\u001b[0;34m,\u001b[0m \u001b[0mtarget\u001b[0m\u001b[0;34m)\u001b[0m\u001b[0;34m\u001b[0m\u001b[0;34m\u001b[0m\u001b[0m\n\u001b[1;32m     94\u001b[0m                 \u001b[0mtest_loss\u001b[0m \u001b[0;34m+=\u001b[0m \u001b[0mce_loss\u001b[0m\u001b[0;34m\u001b[0m\u001b[0;34m\u001b[0m\u001b[0m\n",
      "\u001b[0;32m/var/data/anaconda3lz/anaconda3/envs/py37/lib/python3.7/site-packages/torch/nn/modules/module.py\u001b[0m in \u001b[0;36m_call_impl\u001b[0;34m(self, *input, **kwargs)\u001b[0m\n\u001b[1;32m    725\u001b[0m             \u001b[0mresult\u001b[0m \u001b[0;34m=\u001b[0m \u001b[0mself\u001b[0m\u001b[0;34m.\u001b[0m\u001b[0m_slow_forward\u001b[0m\u001b[0;34m(\u001b[0m\u001b[0;34m*\u001b[0m\u001b[0minput\u001b[0m\u001b[0;34m,\u001b[0m \u001b[0;34m**\u001b[0m\u001b[0mkwargs\u001b[0m\u001b[0;34m)\u001b[0m\u001b[0;34m\u001b[0m\u001b[0;34m\u001b[0m\u001b[0m\n\u001b[1;32m    726\u001b[0m         \u001b[0;32melse\u001b[0m\u001b[0;34m:\u001b[0m\u001b[0;34m\u001b[0m\u001b[0;34m\u001b[0m\u001b[0m\n\u001b[0;32m--> 727\u001b[0;31m             \u001b[0mresult\u001b[0m \u001b[0;34m=\u001b[0m \u001b[0mself\u001b[0m\u001b[0;34m.\u001b[0m\u001b[0mforward\u001b[0m\u001b[0;34m(\u001b[0m\u001b[0;34m*\u001b[0m\u001b[0minput\u001b[0m\u001b[0;34m,\u001b[0m \u001b[0;34m**\u001b[0m\u001b[0mkwargs\u001b[0m\u001b[0;34m)\u001b[0m\u001b[0;34m\u001b[0m\u001b[0;34m\u001b[0m\u001b[0m\n\u001b[0m\u001b[1;32m    728\u001b[0m         for hook in itertools.chain(\n\u001b[1;32m    729\u001b[0m                 \u001b[0m_global_forward_hooks\u001b[0m\u001b[0;34m.\u001b[0m\u001b[0mvalues\u001b[0m\u001b[0;34m(\u001b[0m\u001b[0;34m)\u001b[0m\u001b[0;34m,\u001b[0m\u001b[0;34m\u001b[0m\u001b[0;34m\u001b[0m\u001b[0m\n",
      "\u001b[0;32m/var/data/lzzz/monotone_op_net/train.py\u001b[0m in \u001b[0;36mforward\u001b[0;34m(self, x)\u001b[0m\n\u001b[1;32m    291\u001b[0m     \u001b[0;32mdef\u001b[0m \u001b[0mforward\u001b[0m\u001b[0;34m(\u001b[0m\u001b[0mself\u001b[0m\u001b[0;34m,\u001b[0m \u001b[0mx\u001b[0m\u001b[0;34m)\u001b[0m\u001b[0;34m:\u001b[0m\u001b[0;34m\u001b[0m\u001b[0;34m\u001b[0m\u001b[0m\n\u001b[1;32m    292\u001b[0m         \u001b[0mx\u001b[0m \u001b[0;34m=\u001b[0m \u001b[0mF\u001b[0m\u001b[0;34m.\u001b[0m\u001b[0mpad\u001b[0m\u001b[0;34m(\u001b[0m\u001b[0mx\u001b[0m\u001b[0;34m,\u001b[0m \u001b[0;34m(\u001b[0m\u001b[0;36m1\u001b[0m\u001b[0;34m,\u001b[0m\u001b[0;36m1\u001b[0m\u001b[0;34m,\u001b[0m\u001b[0;36m1\u001b[0m\u001b[0;34m,\u001b[0m\u001b[0;36m1\u001b[0m\u001b[0;34m)\u001b[0m\u001b[0;34m)\u001b[0m\u001b[0;34m\u001b[0m\u001b[0;34m\u001b[0m\u001b[0m\n\u001b[0;32m--> 293\u001b[0;31m         \u001b[0mzs\u001b[0m \u001b[0;34m=\u001b[0m \u001b[0mself\u001b[0m\u001b[0;34m.\u001b[0m\u001b[0mmon\u001b[0m\u001b[0;34m(\u001b[0m\u001b[0mx\u001b[0m\u001b[0;34m)\u001b[0m\u001b[0;34m\u001b[0m\u001b[0;34m\u001b[0m\u001b[0m\n\u001b[0m\u001b[1;32m    294\u001b[0m         \u001b[0mz\u001b[0m \u001b[0;34m=\u001b[0m \u001b[0mzs\u001b[0m\u001b[0;34m[\u001b[0m\u001b[0;34m-\u001b[0m\u001b[0;36m1\u001b[0m\u001b[0;34m]\u001b[0m\u001b[0;34m\u001b[0m\u001b[0;34m\u001b[0m\u001b[0m\n\u001b[1;32m    295\u001b[0m         \u001b[0mz\u001b[0m \u001b[0;34m=\u001b[0m \u001b[0mz\u001b[0m\u001b[0;34m.\u001b[0m\u001b[0mview\u001b[0m\u001b[0;34m(\u001b[0m\u001b[0mz\u001b[0m\u001b[0;34m.\u001b[0m\u001b[0mshape\u001b[0m\u001b[0;34m[\u001b[0m\u001b[0;36m0\u001b[0m\u001b[0;34m]\u001b[0m\u001b[0;34m,\u001b[0m\u001b[0;34m-\u001b[0m\u001b[0;36m1\u001b[0m\u001b[0;34m)\u001b[0m\u001b[0;34m\u001b[0m\u001b[0;34m\u001b[0m\u001b[0m\n",
      "\u001b[0;32m/var/data/anaconda3lz/anaconda3/envs/py37/lib/python3.7/site-packages/torch/nn/modules/module.py\u001b[0m in \u001b[0;36m_call_impl\u001b[0;34m(self, *input, **kwargs)\u001b[0m\n\u001b[1;32m    725\u001b[0m             \u001b[0mresult\u001b[0m \u001b[0;34m=\u001b[0m \u001b[0mself\u001b[0m\u001b[0;34m.\u001b[0m\u001b[0m_slow_forward\u001b[0m\u001b[0;34m(\u001b[0m\u001b[0;34m*\u001b[0m\u001b[0minput\u001b[0m\u001b[0;34m,\u001b[0m \u001b[0;34m**\u001b[0m\u001b[0mkwargs\u001b[0m\u001b[0;34m)\u001b[0m\u001b[0;34m\u001b[0m\u001b[0;34m\u001b[0m\u001b[0m\n\u001b[1;32m    726\u001b[0m         \u001b[0;32melse\u001b[0m\u001b[0;34m:\u001b[0m\u001b[0;34m\u001b[0m\u001b[0;34m\u001b[0m\u001b[0m\n\u001b[0;32m--> 727\u001b[0;31m             \u001b[0mresult\u001b[0m \u001b[0;34m=\u001b[0m \u001b[0mself\u001b[0m\u001b[0;34m.\u001b[0m\u001b[0mforward\u001b[0m\u001b[0;34m(\u001b[0m\u001b[0;34m*\u001b[0m\u001b[0minput\u001b[0m\u001b[0;34m,\u001b[0m \u001b[0;34m**\u001b[0m\u001b[0mkwargs\u001b[0m\u001b[0;34m)\u001b[0m\u001b[0;34m\u001b[0m\u001b[0;34m\u001b[0m\u001b[0m\n\u001b[0m\u001b[1;32m    728\u001b[0m         for hook in itertools.chain(\n\u001b[1;32m    729\u001b[0m                 \u001b[0m_global_forward_hooks\u001b[0m\u001b[0;34m.\u001b[0m\u001b[0mvalues\u001b[0m\u001b[0;34m(\u001b[0m\u001b[0;34m)\u001b[0m\u001b[0;34m,\u001b[0m\u001b[0;34m\u001b[0m\u001b[0;34m\u001b[0m\u001b[0m\n",
      "\u001b[0;32m/var/data/lzzz/monotone_op_net/splitting.py\u001b[0m in \u001b[0;36mforward\u001b[0;34m(self, x)\u001b[0m\n\u001b[1;32m    363\u001b[0m             \u001b[0merrs\u001b[0m \u001b[0;34m=\u001b[0m \u001b[0;34m[\u001b[0m\u001b[0;34m]\u001b[0m\u001b[0;34m\u001b[0m\u001b[0;34m\u001b[0m\u001b[0m\n\u001b[1;32m    364\u001b[0m             \u001b[0;32mwhile\u001b[0m \u001b[0;34m(\u001b[0m\u001b[0merr\u001b[0m \u001b[0;34m>\u001b[0m \u001b[0mself\u001b[0m\u001b[0;34m.\u001b[0m\u001b[0mtol\u001b[0m \u001b[0;32mand\u001b[0m \u001b[0mit\u001b[0m \u001b[0;34m<\u001b[0m \u001b[0mself\u001b[0m\u001b[0;34m.\u001b[0m\u001b[0mmax_iter\u001b[0m\u001b[0;34m)\u001b[0m\u001b[0;34m:\u001b[0m\u001b[0;34m\u001b[0m\u001b[0;34m\u001b[0m\u001b[0m\n\u001b[0;32m--> 365\u001b[0;31m                 \u001b[0mx_112\u001b[0m \u001b[0;34m=\u001b[0m \u001b[0mself\u001b[0m\u001b[0;34m.\u001b[0m\u001b[0mlinear_module\u001b[0m\u001b[0;34m.\u001b[0m\u001b[0minverse\u001b[0m\u001b[0;34m(\u001b[0m\u001b[0;34m*\u001b[0m\u001b[0mtuple\u001b[0m\u001b[0;34m(\u001b[0m\u001b[0mx1\u001b[0m\u001b[0;34m[\u001b[0m\u001b[0mi\u001b[0m\u001b[0;34m]\u001b[0m \u001b[0;34m+\u001b[0m \u001b[0my1\u001b[0m\u001b[0;34m[\u001b[0m\u001b[0mi\u001b[0m\u001b[0;34m]\u001b[0m \u001b[0;34m+\u001b[0m \u001b[0mself\u001b[0m\u001b[0;34m.\u001b[0m\u001b[0malpha\u001b[0m \u001b[0;34m*\u001b[0m \u001b[0mbias\u001b[0m\u001b[0;34m[\u001b[0m\u001b[0mi\u001b[0m\u001b[0;34m]\u001b[0m \u001b[0;32mfor\u001b[0m \u001b[0mi\u001b[0m \u001b[0;32min\u001b[0m \u001b[0mrange\u001b[0m\u001b[0;34m(\u001b[0m\u001b[0mn\u001b[0m\u001b[0;34m)\u001b[0m\u001b[0;34m)\u001b[0m\u001b[0;34m)\u001b[0m\u001b[0;34m\u001b[0m\u001b[0;34m\u001b[0m\u001b[0m\n\u001b[0m\u001b[1;32m    366\u001b[0m                 \u001b[0my_112\u001b[0m \u001b[0;34m=\u001b[0m \u001b[0mtuple\u001b[0m\u001b[0;34m(\u001b[0m\u001b[0mx1\u001b[0m\u001b[0;34m[\u001b[0m\u001b[0mi\u001b[0m\u001b[0;34m]\u001b[0m \u001b[0;34m-\u001b[0m \u001b[0mx_112\u001b[0m\u001b[0;34m[\u001b[0m\u001b[0mi\u001b[0m\u001b[0;34m]\u001b[0m \u001b[0;34m+\u001b[0m \u001b[0my1\u001b[0m\u001b[0;34m[\u001b[0m\u001b[0mi\u001b[0m\u001b[0;34m]\u001b[0m \u001b[0;32mfor\u001b[0m \u001b[0mi\u001b[0m \u001b[0;32min\u001b[0m \u001b[0mrange\u001b[0m\u001b[0;34m(\u001b[0m\u001b[0mn\u001b[0m\u001b[0;34m)\u001b[0m\u001b[0;34m)\u001b[0m\u001b[0;34m\u001b[0m\u001b[0;34m\u001b[0m\u001b[0m\n\u001b[1;32m    367\u001b[0m                 \u001b[0mx_212\u001b[0m \u001b[0;34m=\u001b[0m \u001b[0mself\u001b[0m\u001b[0;34m.\u001b[0m\u001b[0mnonlin_module\u001b[0m\u001b[0;34m(\u001b[0m\u001b[0;34m*\u001b[0m\u001b[0mtuple\u001b[0m\u001b[0;34m(\u001b[0m\u001b[0mx2\u001b[0m\u001b[0;34m[\u001b[0m\u001b[0mi\u001b[0m\u001b[0;34m]\u001b[0m \u001b[0;34m+\u001b[0m \u001b[0my2\u001b[0m\u001b[0;34m[\u001b[0m\u001b[0mi\u001b[0m\u001b[0;34m]\u001b[0m \u001b[0;32mfor\u001b[0m \u001b[0mi\u001b[0m \u001b[0;32min\u001b[0m \u001b[0mrange\u001b[0m\u001b[0;34m(\u001b[0m\u001b[0mn\u001b[0m\u001b[0;34m)\u001b[0m\u001b[0;34m)\u001b[0m\u001b[0;34m)\u001b[0m\u001b[0;34m\u001b[0m\u001b[0;34m\u001b[0m\u001b[0m\n",
      "\u001b[0;32m/var/data/lzzz/monotone_op_net/mon.py\u001b[0m in \u001b[0;36minverse\u001b[0;34m(self, *z)\u001b[0m\n\u001b[1;32m    448\u001b[0m         \u001b[0;32mfor\u001b[0m \u001b[0mi\u001b[0m \u001b[0;32min\u001b[0m \u001b[0mrange\u001b[0m\u001b[0;34m(\u001b[0m\u001b[0mn\u001b[0m \u001b[0;34m-\u001b[0m \u001b[0;36m1\u001b[0m\u001b[0;34m)\u001b[0m\u001b[0;34m:\u001b[0m\u001b[0;34m\u001b[0m\u001b[0;34m\u001b[0m\u001b[0m\n\u001b[1;32m    449\u001b[0m             \u001b[0mA_nx0\u001b[0m \u001b[0;34m=\u001b[0m \u001b[0mself\u001b[0m\u001b[0;34m.\u001b[0m\u001b[0mzpad\u001b[0m\u001b[0;34m(\u001b[0m\u001b[0mF\u001b[0m\u001b[0;34m.\u001b[0m\u001b[0mconv2d\u001b[0m\u001b[0;34m(\u001b[0m\u001b[0mself\u001b[0m\u001b[0;34m.\u001b[0m\u001b[0mcpad\u001b[0m\u001b[0;34m(\u001b[0m\u001b[0mx\u001b[0m\u001b[0;34m[\u001b[0m\u001b[0;34m-\u001b[0m\u001b[0;36m1\u001b[0m\u001b[0;34m]\u001b[0m\u001b[0;34m)\u001b[0m\u001b[0;34m,\u001b[0m \u001b[0mself\u001b[0m\u001b[0;34m.\u001b[0m\u001b[0mA_n\u001b[0m\u001b[0;34m(\u001b[0m\u001b[0mi\u001b[0m\u001b[0;34m)\u001b[0m\u001b[0;34m,\u001b[0m \u001b[0mstride\u001b[0m\u001b[0;34m=\u001b[0m\u001b[0;36m2\u001b[0m\u001b[0;34m)\u001b[0m\u001b[0;34m)\u001b[0m\u001b[0;34m\u001b[0m\u001b[0;34m\u001b[0m\u001b[0m\n\u001b[0;32m--> 450\u001b[0;31m             \u001b[0mATA_nx0\u001b[0m \u001b[0;34m=\u001b[0m \u001b[0mself\u001b[0m\u001b[0;34m.\u001b[0m\u001b[0muncpad\u001b[0m\u001b[0;34m(\u001b[0m\u001b[0mF\u001b[0m\u001b[0;34m.\u001b[0m\u001b[0mconv_transpose2d\u001b[0m\u001b[0;34m(\u001b[0m\u001b[0mself\u001b[0m\u001b[0;34m.\u001b[0m\u001b[0mcpad\u001b[0m\u001b[0;34m(\u001b[0m\u001b[0mA_nx0\u001b[0m\u001b[0;34m)\u001b[0m\u001b[0;34m,\u001b[0m \u001b[0mself\u001b[0m\u001b[0;34m.\u001b[0m\u001b[0mA\u001b[0m\u001b[0;34m(\u001b[0m\u001b[0mi\u001b[0m \u001b[0;34m+\u001b[0m \u001b[0;36m1\u001b[0m\u001b[0;34m)\u001b[0m\u001b[0;34m)\u001b[0m\u001b[0;34m)\u001b[0m\u001b[0;34m\u001b[0m\u001b[0;34m\u001b[0m\u001b[0m\n\u001b[0m\u001b[1;32m    451\u001b[0m             \u001b[0mxn\u001b[0m \u001b[0;34m=\u001b[0m \u001b[0;34m-\u001b[0m\u001b[0mself\u001b[0m\u001b[0;34m.\u001b[0m\u001b[0mbeta\u001b[0m \u001b[0;34m*\u001b[0m \u001b[0;36m2\u001b[0m \u001b[0;34m*\u001b[0m \u001b[0mATA_nx0\u001b[0m\u001b[0;34m\u001b[0m\u001b[0;34m\u001b[0m\u001b[0m\n\u001b[1;32m    452\u001b[0m             \u001b[0;32mif\u001b[0m \u001b[0mi\u001b[0m \u001b[0;34m<\u001b[0m \u001b[0mn\u001b[0m \u001b[0;34m-\u001b[0m \u001b[0;36m2\u001b[0m\u001b[0;34m:\u001b[0m\u001b[0;34m\u001b[0m\u001b[0;34m\u001b[0m\u001b[0m\n",
      "\u001b[0;32m/var/data/lzzz/monotone_op_net/mon.py\u001b[0m in \u001b[0;36mcpad\u001b[0;34m(self, x)\u001b[0m\n\u001b[1;32m    278\u001b[0m \u001b[0;34m\u001b[0m\u001b[0m\n\u001b[1;32m    279\u001b[0m     \u001b[0;32mdef\u001b[0m \u001b[0mcpad\u001b[0m\u001b[0;34m(\u001b[0m\u001b[0mself\u001b[0m\u001b[0;34m,\u001b[0m \u001b[0mx\u001b[0m\u001b[0;34m)\u001b[0m\u001b[0;34m:\u001b[0m\u001b[0;34m\u001b[0m\u001b[0;34m\u001b[0m\u001b[0m\n\u001b[0;32m--> 280\u001b[0;31m         \u001b[0;32mreturn\u001b[0m \u001b[0mF\u001b[0m\u001b[0;34m.\u001b[0m\u001b[0mpad\u001b[0m\u001b[0;34m(\u001b[0m\u001b[0mx\u001b[0m\u001b[0;34m,\u001b[0m \u001b[0mself\u001b[0m\u001b[0;34m.\u001b[0m\u001b[0mpad\u001b[0m\u001b[0;34m,\u001b[0m \u001b[0mmode\u001b[0m\u001b[0;34m=\u001b[0m\u001b[0;34m\"circular\"\u001b[0m\u001b[0;34m)\u001b[0m\u001b[0;34m\u001b[0m\u001b[0;34m\u001b[0m\u001b[0m\n\u001b[0m\u001b[1;32m    281\u001b[0m \u001b[0;34m\u001b[0m\u001b[0m\n\u001b[1;32m    282\u001b[0m     \u001b[0;32mdef\u001b[0m \u001b[0muncpad\u001b[0m\u001b[0;34m(\u001b[0m\u001b[0mself\u001b[0m\u001b[0;34m,\u001b[0m \u001b[0mx\u001b[0m\u001b[0;34m)\u001b[0m\u001b[0;34m:\u001b[0m\u001b[0;34m\u001b[0m\u001b[0;34m\u001b[0m\u001b[0m\n",
      "\u001b[0;32m/var/data/anaconda3lz/anaconda3/envs/py37/lib/python3.7/site-packages/torch/nn/functional.py\u001b[0m in \u001b[0;36m_pad\u001b[0;34m(input, pad, mode, value)\u001b[0m\n\u001b[1;32m   3572\u001b[0m                 \u001b[0;32mreturn\u001b[0m \u001b[0mtorch\u001b[0m\u001b[0;34m.\u001b[0m\u001b[0m_C\u001b[0m\u001b[0;34m.\u001b[0m\u001b[0m_nn\u001b[0m\u001b[0;34m.\u001b[0m\u001b[0mreplication_pad2d\u001b[0m\u001b[0;34m(\u001b[0m\u001b[0minput\u001b[0m\u001b[0;34m,\u001b[0m \u001b[0mpad\u001b[0m\u001b[0;34m)\u001b[0m\u001b[0;34m\u001b[0m\u001b[0;34m\u001b[0m\u001b[0m\n\u001b[1;32m   3573\u001b[0m             \u001b[0;32melif\u001b[0m \u001b[0mmode\u001b[0m \u001b[0;34m==\u001b[0m \u001b[0;34m'circular'\u001b[0m\u001b[0;34m:\u001b[0m\u001b[0;34m\u001b[0m\u001b[0;34m\u001b[0m\u001b[0m\n\u001b[0;32m-> 3574\u001b[0;31m                 \u001b[0;32mreturn\u001b[0m \u001b[0m_pad_circular\u001b[0m\u001b[0;34m(\u001b[0m\u001b[0minput\u001b[0m\u001b[0;34m,\u001b[0m \u001b[0mpad\u001b[0m\u001b[0;34m)\u001b[0m\u001b[0;34m\u001b[0m\u001b[0;34m\u001b[0m\u001b[0m\n\u001b[0m\u001b[1;32m   3575\u001b[0m             \u001b[0;32melse\u001b[0m\u001b[0;34m:\u001b[0m\u001b[0;34m\u001b[0m\u001b[0;34m\u001b[0m\u001b[0m\n\u001b[1;32m   3576\u001b[0m                 \u001b[0;32mraise\u001b[0m \u001b[0mNotImplementedError\u001b[0m\u001b[0;34m\u001b[0m\u001b[0;34m\u001b[0m\u001b[0m\n",
      "\u001b[0;32m/var/data/anaconda3lz/anaconda3/envs/py37/lib/python3.7/site-packages/torch/nn/functional.py\u001b[0m in \u001b[0;36m_pad_circular\u001b[0;34m(input, padding)\u001b[0m\n\u001b[1;32m   3994\u001b[0m         \u001b[0mo0\u001b[0m \u001b[0;34m=\u001b[0m \u001b[0;36m0\u001b[0m\u001b[0;34m\u001b[0m\u001b[0;34m\u001b[0m\u001b[0m\n\u001b[1;32m   3995\u001b[0m         \u001b[0mo1\u001b[0m \u001b[0;34m=\u001b[0m \u001b[0mpadding\u001b[0m\u001b[0;34m[\u001b[0m\u001b[0;34m-\u001b[0m\u001b[0;36m2\u001b[0m\u001b[0;34m]\u001b[0m\u001b[0;34m\u001b[0m\u001b[0;34m\u001b[0m\u001b[0m\n\u001b[0;32m-> 3996\u001b[0;31m         \u001b[0mout\u001b[0m\u001b[0;34m[\u001b[0m\u001b[0;34m:\u001b[0m\u001b[0;34m,\u001b[0m \u001b[0;34m:\u001b[0m\u001b[0;34m,\u001b[0m \u001b[0mo0\u001b[0m\u001b[0;34m:\u001b[0m\u001b[0mo1\u001b[0m\u001b[0;34m]\u001b[0m \u001b[0;34m=\u001b[0m \u001b[0mout\u001b[0m\u001b[0;34m[\u001b[0m\u001b[0;34m:\u001b[0m\u001b[0;34m,\u001b[0m \u001b[0;34m:\u001b[0m\u001b[0;34m,\u001b[0m \u001b[0mi0\u001b[0m\u001b[0;34m:\u001b[0m\u001b[0mi1\u001b[0m\u001b[0;34m]\u001b[0m\u001b[0;34m\u001b[0m\u001b[0;34m\u001b[0m\u001b[0m\n\u001b[0m\u001b[1;32m   3997\u001b[0m     \u001b[0;32mif\u001b[0m \u001b[0mpadding\u001b[0m\u001b[0;34m[\u001b[0m\u001b[0;34m-\u001b[0m\u001b[0;36m1\u001b[0m\u001b[0;34m]\u001b[0m \u001b[0;34m>\u001b[0m \u001b[0;36m0\u001b[0m\u001b[0;34m:\u001b[0m\u001b[0;34m\u001b[0m\u001b[0;34m\u001b[0m\u001b[0m\n\u001b[1;32m   3998\u001b[0m         \u001b[0mi0\u001b[0m \u001b[0;34m=\u001b[0m \u001b[0mmax\u001b[0m\u001b[0;34m(\u001b[0m\u001b[0mpadding\u001b[0m\u001b[0;34m[\u001b[0m\u001b[0;34m-\u001b[0m\u001b[0;36m2\u001b[0m\u001b[0;34m]\u001b[0m\u001b[0;34m,\u001b[0m \u001b[0;36m0\u001b[0m\u001b[0;34m)\u001b[0m\u001b[0;34m\u001b[0m\u001b[0;34m\u001b[0m\u001b[0m\n",
      "\u001b[0;31mKeyboardInterrupt\u001b[0m: "
     ]
    }
   ],
   "source": [
    "trainLoader, testLoader = train.cifar_loaders(train_batch_size=128, test_batch_size=400, augment=False)\n",
    "\n",
    "train.train(trainLoader, testLoader,\n",
    "      train.MultiConvNet(sp.MONProximalDecomposition,\n",
    "                        in_dim=32,\n",
    "                        in_channels=3,\n",
    "                        conv_sizes=(16,32,60),\n",
    "                        alpha=1.0,\n",
    "                        max_iter=300,\n",
    "                        tol=1e-2,\n",
    "                        m=1.0),\n",
    "        max_lr=1e-2,\n",
    "        lr_mode='step',\n",
    "        step=10,\n",
    "        change_mo=False,\n",
    "        epochs=30,\n",
    "      #   epochs=1,\n",
    "        print_freq=100,\n",
    "        tune_alpha=True)"
   ]
  },
  {
   "cell_type": "markdown",
   "metadata": {},
   "source": [
    "### Single convolution MON, CIFAR-10"
   ]
  },
  {
   "cell_type": "code",
   "execution_count": 3,
   "metadata": {
    "collapsed": false,
    "jupyter": {
     "outputs_hidden": false
    },
    "pycharm": {
     "name": "#%%\n"
    }
   },
   "outputs": [
    {
     "name": "stdout",
     "output_type": "stream",
     "text": [
      "Files already downloaded and verified\n",
      "----tuning alpha----\n",
      "current:  1.0\n",
      "alpha: 1.0\t iters: 5\n",
      "alpha: 0.5\t iters: 6\n",
      "setting to:  1.0\n",
      "--------------\n",
      "\n",
      "Train Epoch: 0.26 [12928/50000 (26%)]\tLoss: 1.5369\tError: 55.47\n",
      "Fwd iters: 5.00\tFwd Time: 0.0952\tBkwd Iters: 4.08\tBkwd Time: 0.1252\n",
      "\n",
      "----tuning alpha----\n",
      "current:  1.0\n",
      "alpha: 1.0\t iters: 5\n",
      "alpha: 0.5\t iters: 6\n",
      "setting to:  1.0\n",
      "--------------\n",
      "\n",
      "Train Epoch: 0.51 [25728/50000 (51%)]\tLoss: 1.3328\tError: 49.22\n",
      "Fwd iters: 5.00\tFwd Time: 0.0952\tBkwd Iters: 5.00\tBkwd Time: 0.1503\n",
      "\n",
      "Train Epoch: 0.77 [38528/50000 (77%)]\tLoss: 1.2660\tError: 42.97\n",
      "Fwd iters: 5.00\tFwd Time: 0.0953\tBkwd Iters: 5.00\tBkwd Time: 0.1502\n",
      "\n",
      "Tot train time: 108.33764362335205\n",
      "\n",
      "\n",
      "Test set: Average loss: 1.2514, Error: 4418/10000 (44.18%)\n",
      "Tot test time: 7.238377332687378\n",
      "\n",
      "\n",
      "\n",
      "\n"
     ]
    }
   ],
   "source": [
    "trainLoader, testLoader = train.cifar_loaders(train_batch_size=128, test_batch_size=400, augment=False)\n",
    "\n",
    "train.train(trainLoader, testLoader,\n",
    "      train.SingleConvNet(sp.MONPeacemanRachford,\n",
    "                        in_dim=32,\n",
    "                        in_channels=3,\n",
    "                        out_channels=81,\n",
    "                        alpha=1.0,\n",
    "                        max_iter=300,\n",
    "                        tol=1e-2,\n",
    "                        m=1.0),\n",
    "        max_lr=1e-3,\n",
    "        lr_mode='step',\n",
    "        step=25,\n",
    "        change_mo=False,\n",
    "#         epochs=40,\n",
    "        epochs=1,\n",
    "        print_freq=100,\n",
    "        tune_alpha=True)"
   ]
  },
  {
   "cell_type": "markdown",
   "metadata": {},
   "source": [
    "### Multi-tier MON, CIFAR-10 + data augmentation"
   ]
  },
  {
   "cell_type": "code",
   "execution_count": 4,
   "metadata": {
    "pycharm": {
     "name": "#%%\n"
    }
   },
   "outputs": [
    {
     "name": "stdout",
     "output_type": "stream",
     "text": [
      "Files already downloaded and verified\n",
      "----tuning alpha----\n",
      "current:  1.0\n",
      "alpha: 1.0\t iters: 7\n",
      "alpha: 0.5\t iters: 7\n",
      "alpha: 0.25\t iters: 12\n",
      "setting to:  0.5\n",
      "--------------\n",
      "\n",
      "Train Epoch: 0.26 [12928/50000 (26%)]\tLoss: 1.9840\tError: 75.00\n",
      "Fwd iters: 7.70\tFwd Time: 0.3544\tBkwd Iters: 7.99\tBkwd Time: 0.4853\n",
      "\n",
      "----tuning alpha----\n",
      "current:  0.5\n",
      "alpha: 1.0\t iters: 8\n",
      "alpha: 0.5\t iters: 7\n",
      "alpha: 0.25\t iters: 11\n",
      "setting to:  0.5\n",
      "--------------\n",
      "\n",
      "Train Epoch: 0.51 [25728/50000 (51%)]\tLoss: 1.8562\tError: 67.97\n",
      "Fwd iters: 7.00\tFwd Time: 0.3321\tBkwd Iters: 8.00\tBkwd Time: 0.4866\n",
      "\n",
      "Train Epoch: 0.77 [38528/50000 (77%)]\tLoss: 1.7976\tError: 60.94\n",
      "Fwd iters: 7.81\tFwd Time: 0.3585\tBkwd Iters: 8.00\tBkwd Time: 0.4870\n",
      "\n",
      "Tot train time: 358.17819261550903\n",
      "\n",
      "\n",
      "Test set: Average loss: 1.5719, Error: 5797/10000 (57.97%)\n",
      "Tot test time: 23.59424901008606\n",
      "\n",
      "\n",
      "\n",
      "\n"
     ]
    }
   ],
   "source": [
    "trainLoader, testLoader = train.cifar_loaders(train_batch_size=128, test_batch_size=400, augment=True)\n",
    "\n",
    "train.train(trainLoader, testLoader,\n",
    "      train.MultiConvNet(sp.MONPeacemanRachford,\n",
    "                        in_dim=32,\n",
    "                        in_channels=3,\n",
    "                        conv_sizes=(64,128,128),\n",
    "                        alpha=1.0,\n",
    "                        max_iter=300,\n",
    "                        tol=1e-2,\n",
    "                        m=1.0),\n",
    "        max_lr=0.05,\n",
    "        lr_mode='1cycle',\n",
    "        change_mo=True,\n",
    "#         epochs=65,\n",
    "        epochs=1,\n",
    "        print_freq=100,\n",
    "        tune_alpha=True)"
   ]
  },
  {
   "cell_type": "markdown",
   "metadata": {},
   "source": [
    "### Single convolution MON, CIFAR-10 + data augmentation"
   ]
  },
  {
   "cell_type": "code",
   "execution_count": 5,
   "metadata": {
    "collapsed": false,
    "jupyter": {
     "outputs_hidden": false
    },
    "pycharm": {
     "name": "#%%\n"
    }
   },
   "outputs": [
    {
     "name": "stdout",
     "output_type": "stream",
     "text": [
      "Files already downloaded and verified\n",
      "----tuning alpha----\n",
      "current:  1.0\n",
      "alpha: 1.0\t iters: 6\n",
      "alpha: 0.5\t iters: 6\n",
      "alpha: 0.25\t iters: 8\n",
      "setting to:  0.5\n",
      "--------------\n",
      "\n",
      "Train Epoch: 0.26 [12928/50000 (26%)]\tLoss: 1.4396\tError: 50.78\n",
      "Fwd iters: 6.00\tFwd Time: 0.4187\tBkwd Iters: 6.00\tBkwd Time: 0.4716\n",
      "\n",
      "----tuning alpha----\n",
      "current:  0.5\n",
      "alpha: 1.0\t iters: 6\n",
      "alpha: 0.5\t iters: 6\n",
      "alpha: 0.25\t iters: 8\n",
      "setting to:  0.5\n",
      "--------------\n",
      "\n",
      "Train Epoch: 0.51 [25728/50000 (51%)]\tLoss: 1.4426\tError: 49.22\n",
      "Fwd iters: 6.00\tFwd Time: 0.4179\tBkwd Iters: 6.00\tBkwd Time: 0.4705\n",
      "\n",
      "Train Epoch: 0.77 [38528/50000 (77%)]\tLoss: 1.4308\tError: 51.56\n",
      "Fwd iters: 6.00\tFwd Time: 0.4195\tBkwd Iters: 6.00\tBkwd Time: 0.4716\n",
      "\n",
      "Tot train time: 383.9007320404053\n",
      "\n",
      "\n",
      "Test set: Average loss: 1.2711, Error: 4491/10000 (44.91%)\n",
      "Tot test time: 25.07926917076111\n",
      "\n",
      "\n",
      "\n",
      "\n"
     ]
    }
   ],
   "source": [
    "trainLoader, testLoader = train.cifar_loaders(train_batch_size=128, test_batch_size=400, augment=True)\n",
    "\n",
    "train.train(trainLoader, testLoader,\n",
    "      train.SingleConvNet(sp.MONPeacemanRachford,\n",
    "                        in_dim=32,\n",
    "                        in_channels=3,\n",
    "                        out_channels=200,\n",
    "                        alpha=1.0,\n",
    "                        max_iter=300,\n",
    "                        tol=1e-2,\n",
    "                        m=1.0),\n",
    "        max_lr=1e-2,\n",
    "        lr_mode='1cycle',\n",
    "        change_mo=True,\n",
    "#         epochs=65,\n",
    "        epochs=1,\n",
    "        print_freq=100,\n",
    "        tune_alpha=True)"
   ]
  },
  {
   "cell_type": "markdown",
   "metadata": {},
   "source": [
    "### Multi-tier MON, SVHN"
   ]
  },
  {
   "cell_type": "code",
   "execution_count": 6,
   "metadata": {
    "collapsed": false,
    "jupyter": {
     "outputs_hidden": false
    },
    "pycharm": {
     "name": "#%%\n"
    }
   },
   "outputs": [
    {
     "name": "stdout",
     "output_type": "stream",
     "text": [
      "Using downloaded and verified file: data/train_32x32.mat\n",
      "Using downloaded and verified file: data/test_32x32.mat\n",
      "----tuning alpha----\n",
      "current:  1.0\n",
      "alpha: 1.0\t iters: 7\n",
      "alpha: 0.5\t iters: 8\n",
      "setting to:  1.0\n",
      "--------------\n",
      "\n",
      "Train Epoch: 0.17 [12928/73257 (17%)]\tLoss: 2.2158\tError: 78.91\n",
      "Fwd iters: 6.99\tFwd Time: 0.0829\tBkwd Iters: 7.32\tBkwd Time: 0.1166\n",
      "\n",
      "Train Epoch: 0.35 [25728/73257 (35%)]\tLoss: 1.8257\tError: 64.84\n",
      "Fwd iters: 8.17\tFwd Time: 0.0918\tBkwd Iters: 10.15\tBkwd Time: 0.1582\n",
      "\n",
      "----tuning alpha----\n",
      "current:  1.0\n",
      "alpha: 1.0\t iters: 9\n",
      "alpha: 0.5\t iters: 8\n",
      "alpha: 0.25\t iters: 12\n",
      "setting to:  0.5\n",
      "--------------\n",
      "\n",
      "Train Epoch: 0.52 [38528/73257 (52%)]\tLoss: 1.2114\tError: 36.72\n",
      "Fwd iters: 8.00\tFwd Time: 0.0945\tBkwd Iters: 8.00\tBkwd Time: 0.1257\n",
      "\n",
      "Train Epoch: 0.70 [51328/73257 (70%)]\tLoss: 0.8822\tError: 22.66\n",
      "Fwd iters: 8.00\tFwd Time: 0.0920\tBkwd Iters: 8.00\tBkwd Time: 0.1258\n",
      "\n",
      "Train Epoch: 0.87 [64128/73257 (87%)]\tLoss: 0.9077\tError: 23.44\n",
      "Fwd iters: 8.00\tFwd Time: 0.0910\tBkwd Iters: 8.00\tBkwd Time: 0.1253\n",
      "\n",
      "Tot train time: 151.86186623573303\n",
      "\n",
      "\n",
      "Test set: Average loss: 0.7197, Error: 5396/26032 (20.73%)\n",
      "Tot test time: 19.842275619506836\n",
      "\n",
      "\n",
      "\n",
      "\n"
     ]
    }
   ],
   "source": [
    "trainLoader, testLoader = train.svhn_loaders(train_batch_size=128, test_batch_size=400)\n",
    "\n",
    "train.train(trainLoader, testLoader,\n",
    "      train.MultiConvNet(sp.MONPeacemanRachford,\n",
    "                        in_dim=32,\n",
    "                        in_channels=3,\n",
    "                        conv_sizes=(16,32,60),\n",
    "                        alpha=1.0,\n",
    "                        max_iter=300,\n",
    "                        tol=1e-2,\n",
    "                        m=1.0),\n",
    "        max_lr=1e-3,\n",
    "        lr_mode='step',\n",
    "        step=10,\n",
    "        change_mo=False,\n",
    "#         epochs=40,\n",
    "        epochs=1,\n",
    "        print_freq=100,\n",
    "        tune_alpha=True)"
   ]
  },
  {
   "cell_type": "markdown",
   "metadata": {},
   "source": [
    "### Single convolution MON, SVHN"
   ]
  },
  {
   "cell_type": "code",
   "execution_count": 7,
   "metadata": {
    "collapsed": false,
    "jupyter": {
     "outputs_hidden": false
    },
    "pycharm": {
     "name": "#%%\n"
    }
   },
   "outputs": [
    {
     "name": "stdout",
     "output_type": "stream",
     "text": [
      "Using downloaded and verified file: data/train_32x32.mat\n",
      "Using downloaded and verified file: data/test_32x32.mat\n",
      "----tuning alpha----\n",
      "current:  1.0\n",
      "alpha: 1.0\t iters: 5\n",
      "alpha: 0.5\t iters: 5\n",
      "alpha: 0.25\t iters: 8\n",
      "setting to:  0.5\n",
      "--------------\n",
      "\n",
      "Train Epoch: 0.17 [12928/73257 (17%)]\tLoss: 1.6229\tError: 43.75\n",
      "Fwd iters: 5.18\tFwd Time: 0.0974\tBkwd Iters: 6.00\tBkwd Time: 0.1792\n",
      "\n",
      "Train Epoch: 0.35 [25728/73257 (35%)]\tLoss: 0.9959\tError: 29.69\n",
      "Fwd iters: 6.00\tFwd Time: 0.1071\tBkwd Iters: 6.00\tBkwd Time: 0.1767\n",
      "\n",
      "----tuning alpha----\n",
      "current:  0.5\n",
      "alpha: 1.0\t iters: 5\n",
      "alpha: 0.5\t iters: 6\n",
      "setting to:  1.0\n",
      "--------------\n",
      "\n",
      "Train Epoch: 0.52 [38528/73257 (52%)]\tLoss: 0.9007\tError: 28.91\n",
      "Fwd iters: 5.13\tFwd Time: 0.0966\tBkwd Iters: 5.00\tBkwd Time: 0.1495\n",
      "\n",
      "Train Epoch: 0.70 [51328/73257 (70%)]\tLoss: 0.7787\tError: 24.22\n",
      "Fwd iters: 5.75\tFwd Time: 0.1035\tBkwd Iters: 5.14\tBkwd Time: 0.1533\n",
      "\n",
      "Train Epoch: 0.87 [64128/73257 (87%)]\tLoss: 0.7090\tError: 19.53\n",
      "Fwd iters: 6.00\tFwd Time: 0.1058\tBkwd Iters: 5.95\tBkwd Time: 0.1751\n",
      "\n",
      "Tot train time: 178.84369277954102\n",
      "\n",
      "\n",
      "Test set: Average loss: 0.7594, Error: 5671/26032 (21.78%)\n",
      "Tot test time: 21.099106550216675\n",
      "\n",
      "\n",
      "\n",
      "\n"
     ]
    }
   ],
   "source": [
    "trainLoader, testLoader = train.svhn_loaders(train_batch_size=128, test_batch_size=400)\n",
    "\n",
    "train.train(trainLoader, testLoader,\n",
    "      train.SingleConvNet(sp.MONPeacemanRachford,\n",
    "                        in_dim=32,\n",
    "                        in_channels=3,\n",
    "                        out_channels=81,\n",
    "                        alpha=1.0,\n",
    "                        max_iter=300,\n",
    "                        tol=1e-2,\n",
    "                        m=1.0),\n",
    "        max_lr=1e-3,\n",
    "        lr_mode='step',\n",
    "        step=25,\n",
    "        change_mo=False,\n",
    "#         epochs=40,\n",
    "        epochs=1,\n",
    "        print_freq=100,\n",
    "        tune_alpha=True)"
   ]
  },
  {
   "cell_type": "markdown",
   "metadata": {},
   "source": [
    "### Multi-tier MON, MNIST"
   ]
  },
  {
   "cell_type": "code",
   "execution_count": 8,
   "metadata": {
    "pycharm": {
     "name": "#%%\n"
    }
   },
   "outputs": [
    {
     "name": "stdout",
     "output_type": "stream",
     "text": [
      "----tuning alpha----\n",
      "current:  1.0\n",
      "alpha: 1.0\t iters: 9\n",
      "alpha: 0.5\t iters: 7\n",
      "alpha: 0.25\t iters: 11\n",
      "setting to:  0.5\n",
      "--------------\n",
      "\n",
      "Train Epoch: 0.21 [12928/60000 (21%)]\tLoss: 0.2957\tError: 8.59\n",
      "Fwd iters: 7.00\tFwd Time: 0.0668\tBkwd Iters: 7.03\tBkwd Time: 0.0880\n",
      "\n",
      "Train Epoch: 0.43 [25728/60000 (43%)]\tLoss: 0.2262\tError: 6.25\n",
      "Fwd iters: 7.00\tFwd Time: 0.0686\tBkwd Iters: 7.97\tBkwd Time: 0.1009\n",
      "\n",
      "----tuning alpha----\n",
      "current:  0.5\n",
      "alpha: 1.0\t iters: 9\n",
      "alpha: 0.5\t iters: 7\n",
      "alpha: 0.25\t iters: 11\n",
      "setting to:  0.5\n",
      "--------------\n",
      "\n",
      "Train Epoch: 0.64 [38528/60000 (64%)]\tLoss: 0.0849\tError: 0.78\n",
      "Fwd iters: 7.00\tFwd Time: 0.0666\tBkwd Iters: 8.00\tBkwd Time: 0.1000\n",
      "\n",
      "Train Epoch: 0.85 [51328/60000 (85%)]\tLoss: 0.2064\tError: 5.47\n",
      "Fwd iters: 7.00\tFwd Time: 0.0698\tBkwd Iters: 8.00\tBkwd Time: 0.1030\n",
      "\n",
      "Tot train time: 95.81319689750671\n",
      "\n",
      "\n",
      "Test set: Average loss: 0.1206, Error: 369/10000 (3.69%)\n",
      "Tot test time: 4.875991582870483\n",
      "\n",
      "\n",
      "\n",
      "\n"
     ]
    }
   ],
   "source": [
    "trainLoader, testLoader = train.mnist_loaders(train_batch_size=128, test_batch_size=400)\n",
    "\n",
    "train.train(trainLoader, testLoader,\n",
    "      train.MultiConvNet(sp.MONPeacemanRachford,\n",
    "                        in_dim=28,\n",
    "                        in_channels=1,\n",
    "                        conv_sizes=(16,32,32),\n",
    "                        alpha=1.0,\n",
    "                        max_iter=300,\n",
    "                        tol=1e-2,\n",
    "                        m=1.0),\n",
    "        max_lr=1e-3,\n",
    "        lr_mode='step',\n",
    "        step=10,\n",
    "        change_mo=False,\n",
    "#         epochs=40,\n",
    "        epochs=1,\n",
    "        print_freq=100,\n",
    "        tune_alpha=True)"
   ]
  },
  {
   "cell_type": "markdown",
   "metadata": {},
   "source": [
    "### Single convolution MON, MNIST"
   ]
  },
  {
   "cell_type": "code",
   "execution_count": 9,
   "metadata": {
    "collapsed": false,
    "jupyter": {
     "outputs_hidden": false
    },
    "pycharm": {
     "name": "#%%\n"
    }
   },
   "outputs": [
    {
     "name": "stdout",
     "output_type": "stream",
     "text": [
      "----tuning alpha----\n",
      "current:  1.0\n",
      "alpha: 1.0\t iters: 5\n",
      "alpha: 0.5\t iters: 6\n",
      "setting to:  1.0\n",
      "--------------\n",
      "\n",
      "Train Epoch: 0.21 [12928/60000 (21%)]\tLoss: 0.2081\tError: 4.69\n",
      "Fwd iters: 5.00\tFwd Time: 0.0431\tBkwd Iters: 5.00\tBkwd Time: 0.0763\n",
      "\n",
      "Train Epoch: 0.43 [25728/60000 (43%)]\tLoss: 0.1635\tError: 3.12\n",
      "Fwd iters: 5.00\tFwd Time: 0.0419\tBkwd Iters: 5.06\tBkwd Time: 0.0767\n",
      "\n",
      "----tuning alpha----\n",
      "current:  1.0\n",
      "alpha: 1.0\t iters: 5\n",
      "alpha: 0.5\t iters: 6\n",
      "setting to:  1.0\n",
      "--------------\n",
      "\n",
      "Train Epoch: 0.64 [38528/60000 (64%)]\tLoss: 0.2346\tError: 6.25\n",
      "Fwd iters: 5.00\tFwd Time: 0.0418\tBkwd Iters: 5.97\tBkwd Time: 0.0893\n",
      "\n",
      "Train Epoch: 0.85 [51328/60000 (85%)]\tLoss: 0.1615\tError: 7.03\n",
      "Fwd iters: 5.00\tFwd Time: 0.0418\tBkwd Iters: 6.00\tBkwd Time: 0.0898\n",
      "\n",
      "Tot train time: 72.66634154319763\n",
      "\n",
      "\n",
      "Test set: Average loss: 0.0938, Error: 256/10000 (2.56%)\n",
      "Tot test time: 4.002958536148071\n",
      "\n",
      "\n",
      "\n",
      "\n"
     ]
    }
   ],
   "source": [
    "trainLoader, testLoader = train.mnist_loaders(train_batch_size=128, test_batch_size=400)\n",
    "\n",
    "train.train(trainLoader, testLoader,\n",
    "      train.SingleConvNet(sp.MONPeacemanRachford,\n",
    "                        in_dim=28,\n",
    "                        in_channels=1,\n",
    "                        out_channels=54,\n",
    "                        alpha=1.0,\n",
    "                        max_iter=300,\n",
    "                        tol=1e-2,\n",
    "                        m=1.0),\n",
    "        max_lr=1e-3,\n",
    "        lr_mode='step',\n",
    "        step=10,\n",
    "        change_mo=False,\n",
    "#         epochs=40,\n",
    "        epochs=1,\n",
    "        print_freq=100,\n",
    "        tune_alpha=True)"
   ]
  },
  {
   "cell_type": "markdown",
   "metadata": {},
   "source": [
    "### Single fully-connected MON, MNIST"
   ]
  },
  {
   "cell_type": "code",
   "execution_count": 11,
   "metadata": {
    "collapsed": false,
    "jupyter": {
     "outputs_hidden": false
    },
    "pycharm": {
     "name": "#%%\n"
    }
   },
   "outputs": [
    {
     "name": "stdout",
     "output_type": "stream",
     "text": [
      "----tuning alpha----\n",
      "current:  1.0\n",
      "alpha: 1.0\t iters: 6\n",
      "alpha: 0.5\t iters: 6\n",
      "alpha: 0.25\t iters: 9\n",
      "setting to:  0.5\n",
      "--------------\n",
      "\n",
      "Train Epoch: 0.21 [12928/60000 (21%)]\tLoss: 0.3294\tError: 12.50\n",
      "Fwd iters: 6.00\tFwd Time: 0.0127\tBkwd Iters: 6.00\tBkwd Time: 0.0062\n",
      "\n",
      "Train Epoch: 0.43 [25728/60000 (43%)]\tLoss: 0.4375\tError: 10.94\n",
      "Fwd iters: 6.00\tFwd Time: 0.0123\tBkwd Iters: 6.00\tBkwd Time: 0.0060\n",
      "\n",
      "----tuning alpha----\n",
      "current:  0.5\n",
      "alpha: 1.0\t iters: 6\n",
      "alpha: 0.5\t iters: 6\n",
      "alpha: 0.25\t iters: 9\n",
      "setting to:  0.5\n",
      "--------------\n",
      "\n",
      "Train Epoch: 0.64 [38528/60000 (64%)]\tLoss: 0.2073\tError: 7.03\n",
      "Fwd iters: 6.00\tFwd Time: 0.0119\tBkwd Iters: 6.00\tBkwd Time: 0.0060\n",
      "\n",
      "Train Epoch: 0.85 [51328/60000 (85%)]\tLoss: 0.1452\tError: 3.91\n",
      "Fwd iters: 6.00\tFwd Time: 0.0123\tBkwd Iters: 6.00\tBkwd Time: 0.0060\n",
      "\n",
      "Tot train time: 23.067858457565308\n",
      "\n",
      "\n",
      "Test set: Average loss: 0.1840, Error: 557/10000 (5.57%)\n",
      "Tot test time: 2.1772100925445557\n",
      "\n",
      "\n",
      "\n",
      "\n"
     ]
    }
   ],
   "source": [
    "trainLoader, testLoader = train.mnist_loaders(train_batch_size=128, test_batch_size=400)\n",
    "\n",
    "train.train(trainLoader, testLoader,\n",
    "      train.SingleFcNet(sp.MONPeacemanRachford,\n",
    "                        in_dim=28**2,\n",
    "                        out_dim=87,\n",
    "                        alpha=1.0,\n",
    "                        max_iter=300,\n",
    "                        tol=1e-2,\n",
    "                        m=1.0),\n",
    "        max_lr=1e-3,\n",
    "        lr_mode='step',\n",
    "        step=10,\n",
    "        change_mo=False,\n",
    "#         epochs=40,\n",
    "        epochs=1,\n",
    "        print_freq=100,\n",
    "        tune_alpha=True)\n"
   ]
  }
 ],
 "metadata": {
  "kernelspec": {
   "name": "python3",
   "display_name": "Python 3.7.9 64-bit ('py37': conda)"
  },
  "language_info": {
   "codemirror_mode": {
    "name": "ipython",
    "version": 3
   },
   "file_extension": ".py",
   "mimetype": "text/x-python",
   "name": "python",
   "nbconvert_exporter": "python",
   "pygments_lexer": "ipython3",
   "version": "3.7.9"
  },
  "pycharm": {
   "stem_cell": {
    "cell_type": "raw",
    "metadata": {
     "collapsed": false
    },
    "source": []
   }
  },
  "interpreter": {
   "hash": "522e9b59309082b50c0b134136edaad159791fc286ed2b2b087ebc2263c28895"
  }
 },
 "nbformat": 4,
 "nbformat_minor": 4
}