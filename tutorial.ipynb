{
 "cells": [
  {
   "cell_type": "markdown",
   "metadata": {},
   "source": [
    "# Monotone operator equilibrium networks\n",
    "\n",
    "Monotone operator equilibrium networks (MONs) are a form of Deep Equilibrium Model ([Bai et al. 2019](https://arxiv.org/abs/1909.01377)) which guarantee convergence to a unique fixed-point. \n",
    "\n",
    "Unlike traditional deep networks which explicitly iterate some number of non-linear layers, deep equilibrium models (DEQs) directly solve for the fixed point of an \"infinitely deep\" weight-tied, input-injected  network. For example, given nonlinearity $\\sigma$, network weights $W, U, b$, and input $x$, the network could take the form\n",
    "$$z^{k+1} = \\sigma(W z^k + U x + b)$$\n",
    "where $z^k$ are the hidden units at layer $k$. Here $W,U$ could be dense matrices, or they could correspond to more structured linear operators such as convolutions or multi-tiered convolutional operators (see below).\n",
    "DEQs solve directly for the fixed-point of the iteration\n",
    "$$z^\\star = \\sigma(W z^\\star + U x + b).$$\n",
    "\n",
    "But how can we guarantee that such a fixed point exists, is unique, and that our fixed-point solver will converge to it? In practice, DEQs require extensive tuning in order to obtain stable convergence. "
   ]
  },
  {
   "cell_type": "markdown",
   "metadata": {},
   "source": [
    "## Fixed-point solving as operator splitting\n",
    "We recast the problem of finding the network fixed point as a form of _monotone operator splitting problem_, which can be solved using iterative operator splitting methods such as _forward-backward_ or _Peaceman-Rachford_ splitting. For an introduction to monotone operator theory see [this survey](https://web.stanford.edu/~boyd/papers/pdf/monotone_primer.pdf) by Ryu and Boyd or see Appendix A in [our paper](https://arxiv.org/abs/2006.08591) for a very brief overview.\n",
    "\n",
    "In particular, we show that finding the fixed-point $z^*$ is equivalent to finding a solution to the operator splitting problem $0 \\in (X+Y)(z^\\star)$ with the operators\n",
    "\\begin{equation}\n",
    "X(z) = (I - W)(z) - (Ux + b), \\;\\; Y = \\partial f\n",
    "\\end{equation}\n",
    "so long as $\\sigma$ can be represented as $\\sigma(\\cdot) = \\text{prox}^1_f(\\cdot)$ for some (convex, closed, proper) function $f$. Many common nonlinearities used in deep networks can be represented as proximal operators; for example, the ReLU nonlinearity $\\sigma(x) = [x]_+$ is equal to the proximal operator of the indicator of the positive orthant $f(x) = I\\{x \\geq 0\\}$.\n",
    "\n",
    "Another question is how to backpropagate the loss through the network fixed point. That is, we need to multiply by $\\partial z^\\star / \\partial (\\cdot)$ in order to compute\n",
    "\\begin{equation}\n",
    "\\frac{\\partial \\ell}{\\partial (\\cdot) } = \\frac{\\partial \\ell}{\\partial z^\\star} \\frac{\\partial z^\\star}{\\partial (\\cdot)}.\n",
    "\\end{equation}\n",
    "The challenge here is that $z^\\star$ is not an explicit function of the inputs. As is the case with DEQs, we can do this analytically using the implicit function theorem. In fact, analytical backpropagation through the fixed point can itself be cast as an operator splitting problem. Implementations of splitting methods applied to both fixed-point solving and backpropagation can be found in [splitting.py](splitting.py)."
   ]
  },
  {
   "cell_type": "markdown",
   "metadata": {},
   "source": [
    "## Monotone parameterization\n",
    "\n",
    "The operator splitting methods will be guaranteed to converge to a unique solution provided the network weights obey a certain monotone constraint. We can directly parameterize networks such that this condition holds, by having $W$ take the form\n",
    "$$W = (1-m)I - A^T A + B - B^T$$\n",
    "where $m>0$ and there is no constraint on $A$ or $B$.\n",
    "\n",
    "Implementations for fully-connected, convolutional, and multi-scale convolutional networks can be found in [mon.py](mon.py). \n",
    "\n",
    "For fully-connected networks we can directly parameterize $W$ in the above form with $A,B$ being dense matrices (see class `mon.MONSingleFc`). But this can equally well be achieved when $W$ is a convolution (`mon.MONSingleFc`), or consists of multiple tiers of convolutions at different scales (`mon.MONMultiConv`). In the last case we consider structured hidden states $z$ and $W$ of the form \n",
    "\n",
    "\\begin{equation}\n",
    "z=\\left(\\begin{array}{c} z_1\\\\\n",
    "z_2\\\\\n",
    "\\vdots \\\\\n",
    "z_L \n",
    "\\end{array} \\right) \\text{      and     } \n",
    "W=\\left(\\begin{array}{ccccc}\n",
    "W_{11} & 0 & 0 & \\cdots & 0\\\\\n",
    "W_{21} & W_{22} & 0 & \\cdots & 0 \\\\\n",
    "0 & W_{32} & W_{33} & \\cdots & 0  \\\\\n",
    "\\vdots & \\vdots & \\vdots & \\ddots & \\vdots \\\\\n",
    "0 & 0 & 0 & \\cdots & W_{LL} \\end{array} \\right)\n",
    "\\end{equation}\n",
    "\n",
    "where $z_i$ denotes the hidden units at level $i$ and where $W_{ii}$ denotes an $n_i$ channel to $n_i$ channel convolution, and $W_{i+1,i}$ denotes an $n_i$ to $n_{i+1}$ channel, *strided* convolution. In this case, to ensure that the monotone constraint is met, we need to correctly parameterize each of the $W_{ij}$. It works out that the $W_{ii}$ convolutions will have the form\n",
    "$$W_{ii} = (1-m)I - A_{ii}^T A_{ii} - A_{i+1,i}^T A_{i+1,i} + B_{ii} - B_{ii}^T$$\n",
    "and for the final tier $L$\n",
    "$$W_{LL} = (1-m)I - A_{LL}^T A_{LL} + B_{LL} - B_{LL}^T$$\n",
    "and the subdiagonal convolutions will have the form\n",
    "$$W_{i+1,i} = -2 A_{i+1,i+1}^T A_{i+1,i}.$$\n",
    "\n",
    "The modules such as `mon.MONMultiConv` encapsulate the linear part of the network. That is, the forward method of the modules compute $h = Wz + Ux + b$, where $x$ is a minibatch of examples, and $z$ is an initial set of hidden states. Here is an example of the multi-tier convolutional model in use. Note that $h$ will be a set of hidden units $h_i$ of the same shapes as the $z_i$:"
   ]
  },
  {
   "cell_type": "code",
   "execution_count": 1,
   "metadata": {},
   "outputs": [
    {
     "name": "stdout",
     "output_type": "stream",
     "text": [
      "\tshapes of the z_i:\t {'z_1': [4, 8, 34, 34], 'z_2': [4, 16, 18, 18], 'z_3': [4, 32, 10, 10]}\n",
      "\tshapes of the h_i:\t {'h_1': [4, 8, 34, 34], 'h_2': [4, 16, 18, 18], 'h_3': [4, 32, 10, 10]}\n"
     ]
    }
   ],
   "source": [
    "import mon\n",
    "import torch\n",
    "\n",
    "linear_module = mon.MONMultiConv(in_channels=3, conv_channels=(8,16,32), \n",
    "                         image_size=34, kernel_size=3, m=1.0)\n",
    "\n",
    "\n",
    "#The module knows the correct shape for it's hidden states z_i at each tier for a given batch size\n",
    "n_batch = 4\n",
    "z_shapes = linear_module.z_shape(n_batch=n_batch)\n",
    "\n",
    "print(\"\\tshapes of the z_i:\\t\", \n",
    "      {\"z_{}\".format(i+1):list(z_i_shape) for i,z_i_shape in enumerate(z_shapes)})\n",
    "\n",
    "z = tuple(torch.randn(*s) for s in z_shapes)\n",
    "x = torch.randn(n_batch,3,34,34)\n",
    "\n",
    "#run the forward method of the module\n",
    "h = linear_module(x, *z) \n",
    "\n",
    "print(\"\\tshapes of the h_i:\\t\", \n",
    "      {\"h_{}\".format(i+1):list(h_i.shape) for i,h_i in enumerate(h)})"
   ]
  },
  {
   "cell_type": "markdown",
   "metadata": {},
   "source": [
    "The operator splitting methods will also need to be able to perform the multiplications $Wz$ and $W^Tz$, which in the multi-tier case involves applying different convolutions to the different $z_i$. Here we test the implementations of the multiplication and transposed multiplication by computing $y^TWz$ two ways:"
   ]
  },
  {
   "cell_type": "code",
   "execution_count": 2,
   "metadata": {},
   "outputs": [
    {
     "name": "stdout",
     "output_type": "stream",
     "text": [
      "True\n"
     ]
    }
   ],
   "source": [
    "y = tuple(torch.randn(*s) for s in linear_module.z_shape(n_batch))\n",
    "z = tuple(torch.randn(*s) for s in linear_module.z_shape(n_batch))\n",
    "\n",
    "#compute Wz using linear_module.multiply\n",
    "Wz = linear_module.multiply(*z)\n",
    "\n",
    "#compute yT(Wz)\n",
    "yTWz = tuple(yi * Wzi for yi, Wzi in zip(y,Wz))\n",
    "u = sum([t.sum() for t in yTWz])\n",
    "\n",
    "#compute WTy using linear_module.multiply_transpose  \n",
    "WTy = linear_module.multiply_transpose(*y)\n",
    "\n",
    "#compute zT(WTy)\n",
    "zTWTy = tuple(zi * WTyi for zi, WTyi in zip(z,WTy))\n",
    "v = sum([t.sum() for t in zTWTy])\n",
    "\n",
    "#assert equal\n",
    "print(((u-v).abs()/v.abs() < 1e-5).item())"
   ]
  },
  {
   "cell_type": "markdown",
   "metadata": {},
   "source": [
    "## Inversion\n",
    "\n",
    "Some splitting methods (e.g. Peaceman-Rachford which we use for our experiments) also require multiplying by the inverse $V := (I + \\alpha(I - W))^{-1}$ and by the inverse transpose $V^T$. How can we achieve this when $W$ has this multi-tier form? As we show in the paper, we can efficiently multiply by the inverse of the convolutions in the frequency domain, by computing the FFT of kernels and the $z_i$. Because this multiplication will occur for each iteration of Peaceman-Rachford, we can precompute the kernel inverses in FFT space. Here we verify the behavior of the inverse and inverse transpose multiplications:"
   ]
  },
  {
   "cell_type": "code",
   "execution_count": 3,
   "metadata": {},
   "outputs": [
    {
     "name": "stdout",
     "output_type": "stream",
     "text": [
      "\tinverse undoes multiply : \t\t\t [True, True, True]\n",
      "\tinverse transpose undoes multiply transpose:\t [True, True, True]\n"
     ]
    }
   ],
   "source": [
    "#initialize the inverse (alpha*I + beta*W)^-1 in frequency domain\n",
    "alpha, beta = 2.0, -0.5\n",
    "linear_module.init_inverse(alpha, beta)\n",
    "\n",
    "z = tuple(torch.randn(*s) for s in linear_module.z_shape(n_batch))\n",
    "\n",
    "#verify inverse\n",
    "h = linear_module.multiply(*z)\n",
    "#multiplies by inverse by computing the FFTs of the z_i\n",
    "z_inv = linear_module.inverse(*tuple(beta * h_i + alpha * z_i for h_i, z_i in zip(h,z)))\n",
    "print(\"\\tinverse undoes multiply : \\t\\t\\t\", \n",
    "      [(z_i-z_inv_i).norm().item()/z_inv_i.norm().item() < 1e-5 for z_i, z_inv_i in zip(z,z_inv)])\n",
    "\n",
    "# verify inverse transpose\n",
    "h = linear_module.multiply_transpose(*z)\n",
    "z_inv = linear_module.inverse_transpose(*tuple(beta * h_i + alpha * z_i for h_i, z_i in zip(h,z)))\n",
    "print(\"\\tinverse transpose undoes multiply transpose:\\t\", \n",
    "      [(z_i-z_inv_i).norm().item()/z_inv_i.norm().item() < 1e-5 for z_i, z_inv_i in zip(z,z_inv)])"
   ]
  },
  {
   "cell_type": "markdown",
   "metadata": {},
   "source": [
    "## Nonlinearity\n",
    "\n",
    "Now we need to implement the nonlinear portion of the network, the function $\\sigma$. As mentioned, the ReLU operator meets our requirements as it can be represented as a prox operator, and we use it throughout. The modules `mon.MONReLU` or `mon.MONBorderReLU` work with single- or multi-tier MONs by applying the ReLU to each tier individually. The `mon.MONBorderReLU` module zeros out the boarder of each $z_i$, which takes care of a detail we have not yet mentioned: inverting a convolution via the FFT requires that the convolution be circular. To negate the effect of the circular convolution, we zero-pad the input and then enforce the padding after the convolution by zeroing out the border in the ReLU."
   ]
  },
  {
   "cell_type": "markdown",
   "metadata": {},
   "source": [
    "## Operator splitting methods\n",
    "\n",
    "As mentioned, both solving for the network fixed-point as well as backpropagate through the fixed point can be formulated as different operator splitting problems, each of which we can solve using either Peacman-Rachform or forward-backward iterative methods. The details of the iteration for each of the problems and methods is given in the paper. For the purposes of this tutorial we will treat these as black-box modules which simply wrap our linear and nonlinear modules. The forward method of the modules solves a splitting problem in order to find the fixed point, while the backward method solves a splitting problem in order to backpropagate the gradient of the loss.\n",
    "\n",
    "The splitting methods are implemented in the modules `splitting.MONForwardBackwardSplitting` and `splitting.MONPeacemanRachford`. We can specify the error tolerance `tol`, the maximum number of iterations `max_iter`, and the parameter `alpha` which is used in defining the operators and affects the convergence rate of the splitting methods. While Peaceman-Rachford will converge for any $\\alpha>0$, forward-backward will only converge for small enough $\\alpha$ (see paper for details). \n",
    "\n",
    "Example usage:"
   ]
  },
  {
   "cell_type": "code",
   "execution_count": 4,
   "metadata": {},
   "outputs": [
    {
     "name": "stdout",
     "output_type": "stream",
     "text": [
      "\tForward\n",
      "\t\titer 1: err 2.9999789906526773\n",
      "\t\titer 2: err 1.802318559829415\n",
      "\t\titer 3: err 0.8774335699412454\n",
      "\t\titer 4: err 0.263221534459571\n",
      "\t\titer 5: err 0.07754151665744011\n",
      "\t\titer 6: err 0.019808207136369035\n",
      "\t\titer 7: err 0.005229340569556954\n",
      "\tBackward\n",
      "\t\titer 1: err 0.9999999917583042\n",
      "\t\titer 2: err 0.4180188237643067\n",
      "\t\titer 3: err 0.10536923148401599\n",
      "\t\titer 4: err 0.02531519297527114\n",
      "\t\titer 5: err 0.006361220287972663\n"
     ]
    }
   ],
   "source": [
    "import splitting as sp\n",
    "\n",
    "linear_module = mon.MONMultiConv(in_channels=3, conv_channels=(8,16,32), \n",
    "                         image_size=34, kernel_size=3, m=1.0)\n",
    "nonlinear_module = mon.MONBorderReLU(border=1)\n",
    "\n",
    "solver = sp.MONPeacemanRachford(linear_module, \n",
    "                                nonlinear_module,\n",
    "                                alpha=1.0,\n",
    "                                tol=1e-2,\n",
    "                                max_iter=50)\n",
    "# calling the forward method on the input x\n",
    "out = solver(x)\n",
    "print('\\tForward')\n",
    "for i, err in enumerate(solver.errs):\n",
    "    print('\\t\\titer {}: err {}'.format(i+1, err))\n",
    "\n",
    "# calling the backward method on the input x by backpropagating\n",
    "l = out[0].sum()\n",
    "l.backward()\n",
    "print('\\tBackward')\n",
    "for i, err in enumerate(solver.errs):\n",
    "    print('\\t\\titer {}: err {}'.format(i+1, err))"
   ]
  },
  {
   "cell_type": "markdown",
   "metadata": {},
   "source": [
    "## Training\n",
    "\n",
    "The MON consists of the linear and nonlinear modules wrapped in a splitting method solver. For our classification experiments we pass the output of the MON through a final dense layer which outputs logits. The full models which do this are implemented in `train.SingleFcNet`, `train.SingleConvNet`, and `train.MultiConvNet`.\n",
    "\n",
    "The [train.py](train.py) file also contains data loaders for MNIST, SVHN, and CIFAR-10, as well the main training loop. For example usage see [experiments.ipynb](experiments.ipynb). Here we train a small, fully connected model for a single epoch on MNIST. Note that we adjust $\\alpha$ throughout training to minimize the required solver iterations."
   ]
  },
  {
   "cell_type": "code",
   "execution_count": 5,
   "metadata": {},
   "outputs": [
    {
     "name": "stdout",
     "output_type": "stream",
     "text": [
      "----tuning alpha----\n",
      "current:  1.0\n",
      "alpha: 1.0\t iters: 7\n",
      "alpha: 0.5\t iters: 6\n",
      "alpha: 0.25\t iters: 8\n",
      "setting to:  0.5\n",
      "--------------\n",
      "\n",
      "Train Epoch: 0.21 [12928/60000 (21%)]\tLoss: 0.4445\tError: 12.50\n",
      "Fwd iters: 6.00\tFwd Time: 0.0020\tBkwd Iters: 6.00\tBkwd Time: 0.0020\n",
      "\n",
      "Train Epoch: 0.43 [25728/60000 (43%)]\tLoss: 0.2839\tError: 7.03\n",
      "Fwd iters: 6.00\tFwd Time: 0.0020\tBkwd Iters: 6.00\tBkwd Time: 0.0020\n",
      "\n",
      "----tuning alpha----\n",
      "current:  0.5\n",
      "alpha: 1.0\t iters: 6\n",
      "alpha: 0.5\t iters: 6\n",
      "alpha: 0.25\t iters: 9\n",
      "setting to:  0.5\n",
      "--------------\n",
      "\n",
      "Train Epoch: 0.64 [38528/60000 (64%)]\tLoss: 0.3317\tError: 7.03\n",
      "Fwd iters: 6.00\tFwd Time: 0.0021\tBkwd Iters: 6.00\tBkwd Time: 0.0022\n",
      "\n",
      "Train Epoch: 0.85 [51328/60000 (85%)]\tLoss: 0.2916\tError: 10.94\n",
      "Fwd iters: 6.00\tFwd Time: 0.0020\tBkwd Iters: 6.00\tBkwd Time: 0.0022\n",
      "\n",
      "Tot train time: 10.185662269592285\n",
      "\n",
      "\n",
      "Test set: Average loss: 0.2603, Error: 746/10000 (7.46%)\n",
      "Tot test time: 1.1292250156402588\n",
      "\n",
      "\n",
      "\n",
      "\n"
     ]
    }
   ],
   "source": [
    "import train\n",
    "\n",
    "trainLoader, testLoader = train.mnist_loaders(train_batch_size=128, test_batch_size=400)\n",
    "\n",
    "model = train.SingleFcNet(sp.MONPeacemanRachford,\n",
    "                        in_dim=28**2,\n",
    "                        out_dim=20,\n",
    "                        alpha=1.0,\n",
    "                        max_iter=300,\n",
    "                        tol=1e-2,\n",
    "                        m=1.0) #parameter which controls the strong monotonicity of W\n",
    "\n",
    "train.train(trainLoader, testLoader,\n",
    "        model,\n",
    "        max_lr=1e-3,\n",
    "        lr_mode='step',  #use step decay learning rate\n",
    "        step=10,      \n",
    "        change_mo=False, #do not adjust momentum during training\n",
    "        epochs=1,\n",
    "        print_freq=100,\n",
    "        tune_alpha=True)"
   ]
  },
  {
   "cell_type": "markdown",
   "metadata": {},
   "source": [
    "## Results on image benchmarks\n",
    "\n",
    "MONs perform well on several image classification benchmarks. For example, the table shows performance of several instantiations of MON on CIFAR-10. We compare to the performance of Neural ODEs ([Chen et al. 2018](https://arxiv.org/abs/1806.07366)) and Augmented Neural ODEs ([Dupont et al. 2019](https://arxiv.org/abs/1904.01681)), the only other implicit-depth models like MON which guarantee existence of a network fixed-point.   \n",
    " \n",
    "| Method                 | Model size | Acc.       |\n",
    "|---------------------------------------|------------------------|---------------------------|\n",
    "| Neural ODE             | 172K                   | 53.7%                  |\n",
    "| Aug. Neural ODE | 172K                   | 60.6%                  |\n",
    "| MON (ours\\)                    |                        |                           |\n",
    "| ---Single conv.           | 172K                   | **74.1%**      |\n",
    "| ---Multi-tier           | 170K                   | 71.8%                  |\n",
    "| ---Single conv. lg with data aug. | 854K                   | 82.5%             |\n",
    "| ---Multi-tier lg with data aug. | 1M                     | **89.7%** |\n",
    "\n",
    "The code to train these models and all those described in the results section of the paper is given in [`experiments.ipynb`](experiments.ipynb)."
   ]
  },
  {
   "cell_type": "markdown",
   "metadata": {},
   "source": [
    "## Convergence of operator splitting methods\n",
    "\n",
    "We can test the convergence rates of the operator splitting methods on a fully trained model. We load a fully connected network trained on MNIST and test convergence of forward-backward and Peaceman-Rachford splitting for a range of $\\alpha$ values. Note that in this case, for $\\alpha > 0.125$ forward-backward doesn't converge. Peaceman-Rachford is guaranteed to converge for any $\\alpha>0$, and is more efficent than forward-backward for the correct choice of $\\alpha$."
   ]
  },
  {
   "cell_type": "code",
   "execution_count": 6,
   "metadata": {},
   "outputs": [
    {
     "data": {
      "image/png": "[encoded data removed]",
      "text/plain": [
       "<Figure size 432x288 with 1 Axes>"
      ]
     },
     "metadata": {
      "needs_background": "light"
     },
     "output_type": "display_data"
    },
    {
     "data": {
      "image/png": "[encoded data removed]",
      "text/plain": [
       "<Figure size 432x288 with 1 Axes>"
      ]
     },
     "metadata": {
      "needs_background": "light"
     },
     "output_type": "display_data"
    }
   ],
   "source": [
    "import utils\n",
    "from matplotlib import pyplot  as plt\n",
    "%matplotlib inline\n",
    "\n",
    "\n",
    "# test Peaceman-Rachford convergence for range of alpha values\n",
    "trainLoader, testLoader = train.mnist_loaders(train_batch_size=128, test_batch_size=400)\n",
    "for alpha in [1.0, 0.5, 0.25, 0.125]:\n",
    "    model = train.SingleFcNet(sp.MONPeacemanRachford,\n",
    "                            in_dim=28**2,\n",
    "                            out_dim=87,\n",
    "                            alpha=alpha,\n",
    "                            max_iter=300,\n",
    "                            tol=1e-5,\n",
    "                            m=1.0)\n",
    "\n",
    "    model.load_state_dict(torch.load(\"mnist_fc_model_trained.pt\", map_location=torch.device('cpu')))\n",
    "\n",
    "    errs = utils.get_splitting_stats(testLoader,model)\n",
    "    plt.semilogy(errs, label=\"alpha = {}\".format(alpha))\n",
    "plt.ylabel(\"relative error\")\n",
    "plt.xlabel(\"iterations\")\n",
    "plt.title('Peaceman-Rachford convergence')\n",
    "plt.legend()\n",
    "plt.show()\n",
    "\n",
    "# test forward-backward convergence for range of alpha values\n",
    "trainLoader, testLoader = train.mnist_loaders(train_batch_size=128, test_batch_size=400)\n",
    "\n",
    "for alpha in [1.0, 0.5, 0.25, 0.125]:\n",
    "    model = train.SingleFcNet(sp.MONForwardBackwardSplitting,\n",
    "                            in_dim=28**2,\n",
    "                            out_dim=87,\n",
    "                            alpha=alpha,\n",
    "                            max_iter=300,\n",
    "                            tol=1e-5,\n",
    "                            m=1.0)\n",
    "\n",
    "    model.load_state_dict(torch.load(\"mnist_fc_model_trained.pt\", map_location=torch.device('cpu')))\n",
    "\n",
    "    errs = utils.get_splitting_stats(testLoader,model)\n",
    "    plt.semilogy(errs, label=\"alpha = {}\".format(alpha))\n",
    "plt.ylabel(\"relative error\")\n",
    "plt.xlabel(\"iterations\")\n",
    "plt.title('forward-backward convergence')\n",
    "plt.legend()\n",
    "plt.show()"
   ]
  },
  {
   "cell_type": "code",
   "execution_count": null,
   "metadata": {},
   "outputs": [],
   "source": []
  }
 ],
 "metadata": {
  "kernelspec": {
   "display_name": "Python 3",
   "language": "python",
   "name": "python3"
  },
  "language_info": {
   "codemirror_mode": {
    "name": "ipython",
    "version": 3
   },
   "file_extension": ".py",
   "mimetype": "text/x-python",
   "name": "python",
   "nbconvert_exporter": "python",
   "pygments_lexer": "ipython3",
   "version": "3.7.3"
  },
  "pycharm": {
   "stem_cell": {
    "cell_type": "raw",
    "source": [],
    "metadata": {
     "collapsed": false
    }
   }
  }
 },
 "nbformat": 4,
 "nbformat_minor": 2
}