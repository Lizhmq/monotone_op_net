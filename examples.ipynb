{
 "cells": [
  {
   "cell_type": "code",
   "execution_count": 1,
   "metadata": {},
   "outputs": [],
   "source": [
    "import splitting as sp\n",
    "import train"
   ]
  },
  {
   "cell_type": "markdown",
   "metadata": {},
   "source": [
    "### Multi-tier MON, CIFAR-10"
   ]
  },
  {
   "cell_type": "code",
   "execution_count": 2,
   "metadata": {
    "collapsed": false,
    "jupyter": {
     "outputs_hidden": false
    },
    "pycharm": {
     "name": "#%%\n"
    }
   },
   "outputs": [
    {
     "name": "stdout",
     "output_type": "stream",
     "text": [
      "Files already downloaded and verified\n",
      "----tuning alpha----\n",
      "current:  1.0\n",
      "alpha: 1.0\t iters: 10\n",
      "alpha: 0.5\t iters: 9\n",
      "alpha: 0.25\t iters: 12\n",
      "setting to:  0.5\n",
      "--------------\n",
      "\n",
      "Train Epoch: 0.26 [12928/50000 (26%)]\tLoss: 1.8413\tError: 65.62\n",
      "Fwd iters: 8.56\tFwd Time: 0.0957\tBkwd Iters: 8.68\tBkwd Time: 0.1391\n",
      "\n",
      "----tuning alpha----\n",
      "current:  0.5\n",
      "alpha: 1.0\t iters: 11\n",
      "alpha: 0.5\t iters: 9\n",
      "alpha: 0.25\t iters: 12\n",
      "setting to:  0.5\n",
      "--------------\n",
      "\n",
      "Train Epoch: 0.51 [25728/50000 (51%)]\tLoss: 1.6348\tError: 59.38\n",
      "Fwd iters: 9.00\tFwd Time: 0.0979\tBkwd Iters: 8.00\tBkwd Time: 0.1323\n",
      "\n",
      "Train Epoch: 0.77 [38528/50000 (77%)]\tLoss: 1.3809\tError: 46.09\n",
      "Fwd iters: 9.47\tFwd Time: 0.1019\tBkwd Iters: 8.03\tBkwd Time: 0.1292\n",
      "\n",
      "Tot train time: 106.92895436286926\n",
      "\n",
      "\n",
      "Test set: Average loss: 1.3093, Error: 4600/10000 (46.00%)\n",
      "Tot test time: 8.091797351837158\n",
      "\n",
      "\n",
      "\n",
      "\n"
     ]
    }
   ],
   "source": [
    "trainLoader, testLoader = train.cifar_loaders(train_batch_size=128, test_batch_size=400, augment=False)\n",
    "\n",
    "train.train(trainLoader, testLoader,\n",
    "      train.MultiConvNet(sp.MONPeacemanRachford,\n",
    "                        in_dim=32,\n",
    "                        in_channels=3,\n",
    "                        conv_sizes=(16,32,60),\n",
    "                        alpha=1.0,\n",
    "                        max_iter=300,\n",
    "                        tol=1e-2,\n",
    "                        m=1.0),\n",
    "        max_lr=1e-2,\n",
    "        lr_mode='step',\n",
    "        step=10,\n",
    "        change_mo=False,\n",
    "#         epochs=40,\n",
    "        epochs=1,\n",
    "        print_freq=100,\n",
    "        tune_alpha=True)"
   ]
  },
  {
   "cell_type": "markdown",
   "metadata": {},
   "source": [
    "### Single convolution MON, CIFAR-10"
   ]
  },
  {
   "cell_type": "code",
   "execution_count": 3,
   "metadata": {
    "collapsed": false,
    "jupyter": {
     "outputs_hidden": false
    },
    "pycharm": {
     "name": "#%%\n"
    }
   },
   "outputs": [
    {
     "name": "stdout",
     "output_type": "stream",
     "text": [
      "Files already downloaded and verified\n",
      "----tuning alpha----\n",
      "current:  1.0\n",
      "alpha: 1.0\t iters: 5\n",
      "alpha: 0.5\t iters: 6\n",
      "setting to:  1.0\n",
      "--------------\n",
      "\n",
      "Train Epoch: 0.26 [12928/50000 (26%)]\tLoss: 1.5369\tError: 55.47\n",
      "Fwd iters: 5.00\tFwd Time: 0.0952\tBkwd Iters: 4.08\tBkwd Time: 0.1252\n",
      "\n",
      "----tuning alpha----\n",
      "current:  1.0\n",
      "alpha: 1.0\t iters: 5\n",
      "alpha: 0.5\t iters: 6\n",
      "setting to:  1.0\n",
      "--------------\n",
      "\n",
      "Train Epoch: 0.51 [25728/50000 (51%)]\tLoss: 1.3328\tError: 49.22\n",
      "Fwd iters: 5.00\tFwd Time: 0.0952\tBkwd Iters: 5.00\tBkwd Time: 0.1503\n",
      "\n",
      "Train Epoch: 0.77 [38528/50000 (77%)]\tLoss: 1.2660\tError: 42.97\n",
      "Fwd iters: 5.00\tFwd Time: 0.0953\tBkwd Iters: 5.00\tBkwd Time: 0.1502\n",
      "\n",
      "Tot train time: 108.33764362335205\n",
      "\n",
      "\n",
      "Test set: Average loss: 1.2514, Error: 4418/10000 (44.18%)\n",
      "Tot test time: 7.238377332687378\n",
      "\n",
      "\n",
      "\n",
      "\n"
     ]
    }
   ],
   "source": [
    "trainLoader, testLoader = train.cifar_loaders(train_batch_size=128, test_batch_size=400, augment=False)\n",
    "\n",
    "train.train(trainLoader, testLoader,\n",
    "      train.SingleConvNet(sp.MONPeacemanRachford,\n",
    "                        in_dim=32,\n",
    "                        in_channels=3,\n",
    "                        out_channels=81,\n",
    "                        alpha=1.0,\n",
    "                        max_iter=300,\n",
    "                        tol=1e-2,\n",
    "                        m=1.0),\n",
    "        max_lr=1e-3,\n",
    "        lr_mode='step',\n",
    "        step=25,\n",
    "        change_mo=False,\n",
    "#         epochs=40,\n",
    "        epochs=1,\n",
    "        print_freq=100,\n",
    "        tune_alpha=True)"
   ]
  },
  {
   "cell_type": "markdown",
   "metadata": {},
   "source": [
    "### Multi-tier MON, CIFAR-10 + data augmentation"
   ]
  },
  {
   "cell_type": "code",
   "execution_count": 4,
   "metadata": {
    "pycharm": {
     "name": "#%%\n"
    }
   },
   "outputs": [
    {
     "name": "stdout",
     "output_type": "stream",
     "text": [
      "Files already downloaded and verified\n",
      "----tuning alpha----\n",
      "current:  1.0\n",
      "alpha: 1.0\t iters: 7\n",
      "alpha: 0.5\t iters: 7\n",
      "alpha: 0.25\t iters: 12\n",
      "setting to:  0.5\n",
      "--------------\n",
      "\n",
      "Train Epoch: 0.26 [12928/50000 (26%)]\tLoss: 1.9840\tError: 75.00\n",
      "Fwd iters: 7.70\tFwd Time: 0.3544\tBkwd Iters: 7.99\tBkwd Time: 0.4853\n",
      "\n",
      "----tuning alpha----\n",
      "current:  0.5\n",
      "alpha: 1.0\t iters: 8\n",
      "alpha: 0.5\t iters: 7\n",
      "alpha: 0.25\t iters: 11\n",
      "setting to:  0.5\n",
      "--------------\n",
      "\n",
      "Train Epoch: 0.51 [25728/50000 (51%)]\tLoss: 1.8562\tError: 67.97\n",
      "Fwd iters: 7.00\tFwd Time: 0.3321\tBkwd Iters: 8.00\tBkwd Time: 0.4866\n",
      "\n",
      "Train Epoch: 0.77 [38528/50000 (77%)]\tLoss: 1.7976\tError: 60.94\n",
      "Fwd iters: 7.81\tFwd Time: 0.3585\tBkwd Iters: 8.00\tBkwd Time: 0.4870\n",
      "\n",
      "Tot train time: 358.17819261550903\n",
      "\n",
      "\n",
      "Test set: Average loss: 1.5719, Error: 5797/10000 (57.97%)\n",
      "Tot test time: 23.59424901008606\n",
      "\n",
      "\n",
      "\n",
      "\n"
     ]
    }
   ],
   "source": [
    "trainLoader, testLoader = train.cifar_loaders(train_batch_size=128, test_batch_size=400, augment=True)\n",
    "\n",
    "train.train(trainLoader, testLoader,\n",
    "      train.MultiConvNet(sp.MONPeacemanRachford,\n",
    "                        in_dim=32,\n",
    "                        in_channels=3,\n",
    "                        conv_sizes=(64,128,128),\n",
    "                        alpha=1.0,\n",
    "                        max_iter=300,\n",
    "                        tol=1e-2,\n",
    "                        m=1.0),\n",
    "        max_lr=0.05,\n",
    "        lr_mode='1cycle',\n",
    "        change_mo=True,\n",
    "#         epochs=65,\n",
    "        epochs=1,\n",
    "        print_freq=100,\n",
    "        tune_alpha=True)"
   ]
  },
  {
   "cell_type": "markdown",
   "metadata": {},
   "source": [
    "### Single convolution MON, CIFAR-10 + data augmentation"
   ]
  },
  {
   "cell_type": "code",
   "execution_count": 5,
   "metadata": {
    "collapsed": false,
    "jupyter": {
     "outputs_hidden": false
    },
    "pycharm": {
     "name": "#%%\n"
    }
   },
   "outputs": [
    {
     "name": "stdout",
     "output_type": "stream",
     "text": [
      "Files already downloaded and verified\n",
      "----tuning alpha----\n",
      "current:  1.0\n",
      "alpha: 1.0\t iters: 6\n",
      "alpha: 0.5\t iters: 6\n",
      "alpha: 0.25\t iters: 8\n",
      "setting to:  0.5\n",
      "--------------\n",
      "\n",
      "Train Epoch: 0.26 [12928/50000 (26%)]\tLoss: 1.4396\tError: 50.78\n",
      "Fwd iters: 6.00\tFwd Time: 0.4187\tBkwd Iters: 6.00\tBkwd Time: 0.4716\n",
      "\n",
      "----tuning alpha----\n",
      "current:  0.5\n",
      "alpha: 1.0\t iters: 6\n",
      "alpha: 0.5\t iters: 6\n",
      "alpha: 0.25\t iters: 8\n",
      "setting to:  0.5\n",
      "--------------\n",
      "\n",
      "Train Epoch: 0.51 [25728/50000 (51%)]\tLoss: 1.4426\tError: 49.22\n",
      "Fwd iters: 6.00\tFwd Time: 0.4179\tBkwd Iters: 6.00\tBkwd Time: 0.4705\n",
      "\n",
      "Train Epoch: 0.77 [38528/50000 (77%)]\tLoss: 1.4308\tError: 51.56\n",
      "Fwd iters: 6.00\tFwd Time: 0.4195\tBkwd Iters: 6.00\tBkwd Time: 0.4716\n",
      "\n",
      "Tot train time: 383.9007320404053\n",
      "\n",
      "\n",
      "Test set: Average loss: 1.2711, Error: 4491/10000 (44.91%)\n",
      "Tot test time: 25.07926917076111\n",
      "\n",
      "\n",
      "\n",
      "\n"
     ]
    }
   ],
   "source": [
    "trainLoader, testLoader = train.cifar_loaders(train_batch_size=128, test_batch_size=400, augment=True)\n",
    "\n",
    "train.train(trainLoader, testLoader,\n",
    "      train.SingleConvNet(sp.MONPeacemanRachford,\n",
    "                        in_dim=32,\n",
    "                        in_channels=3,\n",
    "                        out_channels=200,\n",
    "                        alpha=1.0,\n",
    "                        max_iter=300,\n",
    "                        tol=1e-2,\n",
    "                        m=1.0),\n",
    "        max_lr=1e-2,\n",
    "        lr_mode='1cycle',\n",
    "        change_mo=True,\n",
    "#         epochs=65,\n",
    "        epochs=1,\n",
    "        print_freq=100,\n",
    "        tune_alpha=True)"
   ]
  },
  {
   "cell_type": "markdown",
   "metadata": {},
   "source": [
    "### Multi-tier MON, SVHN"
   ]
  },
  {
   "cell_type": "code",
   "execution_count": 6,
   "metadata": {
    "collapsed": false,
    "jupyter": {
     "outputs_hidden": false
    },
    "pycharm": {
     "name": "#%%\n"
    }
   },
   "outputs": [
    {
     "name": "stdout",
     "output_type": "stream",
     "text": [
      "Using downloaded and verified file: data/train_32x32.mat\n",
      "Using downloaded and verified file: data/test_32x32.mat\n",
      "----tuning alpha----\n",
      "current:  1.0\n",
      "alpha: 1.0\t iters: 7\n",
      "alpha: 0.5\t iters: 8\n",
      "setting to:  1.0\n",
      "--------------\n",
      "\n",
      "Train Epoch: 0.17 [12928/73257 (17%)]\tLoss: 2.2158\tError: 78.91\n",
      "Fwd iters: 6.99\tFwd Time: 0.0829\tBkwd Iters: 7.32\tBkwd Time: 0.1166\n",
      "\n",
      "Train Epoch: 0.35 [25728/73257 (35%)]\tLoss: 1.8257\tError: 64.84\n",
      "Fwd iters: 8.17\tFwd Time: 0.0918\tBkwd Iters: 10.15\tBkwd Time: 0.1582\n",
      "\n",
      "----tuning alpha----\n",
      "current:  1.0\n",
      "alpha: 1.0\t iters: 9\n",
      "alpha: 0.5\t iters: 8\n",
      "alpha: 0.25\t iters: 12\n",
      "setting to:  0.5\n",
      "--------------\n",
      "\n",
      "Train Epoch: 0.52 [38528/73257 (52%)]\tLoss: 1.2114\tError: 36.72\n",
      "Fwd iters: 8.00\tFwd Time: 0.0945\tBkwd Iters: 8.00\tBkwd Time: 0.1257\n",
      "\n",
      "Train Epoch: 0.70 [51328/73257 (70%)]\tLoss: 0.8822\tError: 22.66\n",
      "Fwd iters: 8.00\tFwd Time: 0.0920\tBkwd Iters: 8.00\tBkwd Time: 0.1258\n",
      "\n",
      "Train Epoch: 0.87 [64128/73257 (87%)]\tLoss: 0.9077\tError: 23.44\n",
      "Fwd iters: 8.00\tFwd Time: 0.0910\tBkwd Iters: 8.00\tBkwd Time: 0.1253\n",
      "\n",
      "Tot train time: 151.86186623573303\n",
      "\n",
      "\n",
      "Test set: Average loss: 0.7197, Error: 5396/26032 (20.73%)\n",
      "Tot test time: 19.842275619506836\n",
      "\n",
      "\n",
      "\n",
      "\n"
     ]
    }
   ],
   "source": [
    "trainLoader, testLoader = train.svhn_loaders(train_batch_size=128, test_batch_size=400)\n",
    "\n",
    "train.train(trainLoader, testLoader,\n",
    "      train.MultiConvNet(sp.MONPeacemanRachford,\n",
    "                        in_dim=32,\n",
    "                        in_channels=3,\n",
    "                        conv_sizes=(16,32,60),\n",
    "                        alpha=1.0,\n",
    "                        max_iter=300,\n",
    "                        tol=1e-2,\n",
    "                        m=1.0),\n",
    "        max_lr=1e-3,\n",
    "        lr_mode='step',\n",
    "        step=10,\n",
    "        change_mo=False,\n",
    "#         epochs=40,\n",
    "        epochs=1,\n",
    "        print_freq=100,\n",
    "        tune_alpha=True)"
   ]
  },
  {
   "cell_type": "markdown",
   "metadata": {},
   "source": [
    "### Single convolution MON, SVHN"
   ]
  },
  {
   "cell_type": "code",
   "execution_count": 7,
   "metadata": {
    "collapsed": false,
    "jupyter": {
     "outputs_hidden": false
    },
    "pycharm": {
     "name": "#%%\n"
    }
   },
   "outputs": [
    {
     "name": "stdout",
     "output_type": "stream",
     "text": [
      "Using downloaded and verified file: data/train_32x32.mat\n",
      "Using downloaded and verified file: data/test_32x32.mat\n",
      "----tuning alpha----\n",
      "current:  1.0\n",
      "alpha: 1.0\t iters: 5\n",
      "alpha: 0.5\t iters: 5\n",
      "alpha: 0.25\t iters: 8\n",
      "setting to:  0.5\n",
      "--------------\n",
      "\n",
      "Train Epoch: 0.17 [12928/73257 (17%)]\tLoss: 1.6229\tError: 43.75\n",
      "Fwd iters: 5.18\tFwd Time: 0.0974\tBkwd Iters: 6.00\tBkwd Time: 0.1792\n",
      "\n",
      "Train Epoch: 0.35 [25728/73257 (35%)]\tLoss: 0.9959\tError: 29.69\n",
      "Fwd iters: 6.00\tFwd Time: 0.1071\tBkwd Iters: 6.00\tBkwd Time: 0.1767\n",
      "\n",
      "----tuning alpha----\n",
      "current:  0.5\n",
      "alpha: 1.0\t iters: 5\n",
      "alpha: 0.5\t iters: 6\n",
      "setting to:  1.0\n",
      "--------------\n",
      "\n",
      "Train Epoch: 0.52 [38528/73257 (52%)]\tLoss: 0.9007\tError: 28.91\n",
      "Fwd iters: 5.13\tFwd Time: 0.0966\tBkwd Iters: 5.00\tBkwd Time: 0.1495\n",
      "\n",
      "Train Epoch: 0.70 [51328/73257 (70%)]\tLoss: 0.7787\tError: 24.22\n",
      "Fwd iters: 5.75\tFwd Time: 0.1035\tBkwd Iters: 5.14\tBkwd Time: 0.1533\n",
      "\n",
      "Train Epoch: 0.87 [64128/73257 (87%)]\tLoss: 0.7090\tError: 19.53\n",
      "Fwd iters: 6.00\tFwd Time: 0.1058\tBkwd Iters: 5.95\tBkwd Time: 0.1751\n",
      "\n",
      "Tot train time: 178.84369277954102\n",
      "\n",
      "\n",
      "Test set: Average loss: 0.7594, Error: 5671/26032 (21.78%)\n",
      "Tot test time: 21.099106550216675\n",
      "\n",
      "\n",
      "\n",
      "\n"
     ]
    }
   ],
   "source": [
    "trainLoader, testLoader = train.svhn_loaders(train_batch_size=128, test_batch_size=400)\n",
    "\n",
    "train.train(trainLoader, testLoader,\n",
    "      train.SingleConvNet(sp.MONPeacemanRachford,\n",
    "                        in_dim=32,\n",
    "                        in_channels=3,\n",
    "                        out_channels=81,\n",
    "                        alpha=1.0,\n",
    "                        max_iter=300,\n",
    "                        tol=1e-2,\n",
    "                        m=1.0),\n",
    "        max_lr=1e-3,\n",
    "        lr_mode='step',\n",
    "        step=25,\n",
    "        change_mo=False,\n",
    "#         epochs=40,\n",
    "        epochs=1,\n",
    "        print_freq=100,\n",
    "        tune_alpha=True)"
   ]
  },
  {
   "cell_type": "markdown",
   "metadata": {},
   "source": [
    "### Multi-tier MON, MNIST"
   ]
  },
  {
   "cell_type": "code",
   "execution_count": 8,
   "metadata": {
    "pycharm": {
     "name": "#%%\n"
    }
   },
   "outputs": [
    {
     "name": "stdout",
     "output_type": "stream",
     "text": [
      "----tuning alpha----\n",
      "current:  1.0\n",
      "alpha: 1.0\t iters: 9\n",
      "alpha: 0.5\t iters: 7\n",
      "alpha: 0.25\t iters: 11\n",
      "setting to:  0.5\n",
      "--------------\n",
      "\n",
      "Train Epoch: 0.21 [12928/60000 (21%)]\tLoss: 0.2957\tError: 8.59\n",
      "Fwd iters: 7.00\tFwd Time: 0.0668\tBkwd Iters: 7.03\tBkwd Time: 0.0880\n",
      "\n",
      "Train Epoch: 0.43 [25728/60000 (43%)]\tLoss: 0.2262\tError: 6.25\n",
      "Fwd iters: 7.00\tFwd Time: 0.0686\tBkwd Iters: 7.97\tBkwd Time: 0.1009\n",
      "\n",
      "----tuning alpha----\n",
      "current:  0.5\n",
      "alpha: 1.0\t iters: 9\n",
      "alpha: 0.5\t iters: 7\n",
      "alpha: 0.25\t iters: 11\n",
      "setting to:  0.5\n",
      "--------------\n",
      "\n",
      "Train Epoch: 0.64 [38528/60000 (64%)]\tLoss: 0.0849\tError: 0.78\n",
      "Fwd iters: 7.00\tFwd Time: 0.0666\tBkwd Iters: 8.00\tBkwd Time: 0.1000\n",
      "\n",
      "Train Epoch: 0.85 [51328/60000 (85%)]\tLoss: 0.2064\tError: 5.47\n",
      "Fwd iters: 7.00\tFwd Time: 0.0698\tBkwd Iters: 8.00\tBkwd Time: 0.1030\n",
      "\n",
      "Tot train time: 95.81319689750671\n",
      "\n",
      "\n",
      "Test set: Average loss: 0.1206, Error: 369/10000 (3.69%)\n",
      "Tot test time: 4.875991582870483\n",
      "\n",
      "\n",
      "\n",
      "\n"
     ]
    }
   ],
   "source": [
    "trainLoader, testLoader = train.mnist_loaders(train_batch_size=128, test_batch_size=400)\n",
    "\n",
    "train.train(trainLoader, testLoader,\n",
    "      train.MultiConvNet(sp.MONPeacemanRachford,\n",
    "                        in_dim=28,\n",
    "                        in_channels=1,\n",
    "                        conv_sizes=(16,32,32),\n",
    "                        alpha=1.0,\n",
    "                        max_iter=300,\n",
    "                        tol=1e-2,\n",
    "                        m=1.0),\n",
    "        max_lr=1e-3,\n",
    "        lr_mode='step',\n",
    "        step=10,\n",
    "        change_mo=False,\n",
    "#         epochs=40,\n",
    "        epochs=1,\n",
    "        print_freq=100,\n",
    "        tune_alpha=True)"
   ]
  },
  {
   "cell_type": "markdown",
   "metadata": {},
   "source": [
    "### Single convolution MON, MNIST"
   ]
  },
  {
   "cell_type": "code",
   "execution_count": 9,
   "metadata": {
    "collapsed": false,
    "jupyter": {
     "outputs_hidden": false
    },
    "pycharm": {
     "name": "#%%\n"
    }
   },
   "outputs": [
    {
     "name": "stdout",
     "output_type": "stream",
     "text": [
      "----tuning alpha----\n",
      "current:  1.0\n",
      "alpha: 1.0\t iters: 5\n",
      "alpha: 0.5\t iters: 6\n",
      "setting to:  1.0\n",
      "--------------\n",
      "\n",
      "Train Epoch: 0.21 [12928/60000 (21%)]\tLoss: 0.2081\tError: 4.69\n",
      "Fwd iters: 5.00\tFwd Time: 0.0431\tBkwd Iters: 5.00\tBkwd Time: 0.0763\n",
      "\n",
      "Train Epoch: 0.43 [25728/60000 (43%)]\tLoss: 0.1635\tError: 3.12\n",
      "Fwd iters: 5.00\tFwd Time: 0.0419\tBkwd Iters: 5.06\tBkwd Time: 0.0767\n",
      "\n",
      "----tuning alpha----\n",
      "current:  1.0\n",
      "alpha: 1.0\t iters: 5\n",
      "alpha: 0.5\t iters: 6\n",
      "setting to:  1.0\n",
      "--------------\n",
      "\n",
      "Train Epoch: 0.64 [38528/60000 (64%)]\tLoss: 0.2346\tError: 6.25\n",
      "Fwd iters: 5.00\tFwd Time: 0.0418\tBkwd Iters: 5.97\tBkwd Time: 0.0893\n",
      "\n",
      "Train Epoch: 0.85 [51328/60000 (85%)]\tLoss: 0.1615\tError: 7.03\n",
      "Fwd iters: 5.00\tFwd Time: 0.0418\tBkwd Iters: 6.00\tBkwd Time: 0.0898\n",
      "\n",
      "Tot train time: 72.66634154319763\n",
      "\n",
      "\n",
      "Test set: Average loss: 0.0938, Error: 256/10000 (2.56%)\n",
      "Tot test time: 4.002958536148071\n",
      "\n",
      "\n",
      "\n",
      "\n"
     ]
    }
   ],
   "source": [
    "trainLoader, testLoader = train.mnist_loaders(train_batch_size=128, test_batch_size=400)\n",
    "\n",
    "train.train(trainLoader, testLoader,\n",
    "      train.SingleConvNet(sp.MONPeacemanRachford,\n",
    "                        in_dim=28,\n",
    "                        in_channels=1,\n",
    "                        out_channels=54,\n",
    "                        alpha=1.0,\n",
    "                        max_iter=300,\n",
    "                        tol=1e-2,\n",
    "                        m=1.0),\n",
    "        max_lr=1e-3,\n",
    "        lr_mode='step',\n",
    "        step=10,\n",
    "        change_mo=False,\n",
    "#         epochs=40,\n",
    "        epochs=1,\n",
    "        print_freq=100,\n",
    "        tune_alpha=True)"
   ]
  },
  {
   "cell_type": "markdown",
   "metadata": {},
   "source": [
    "### Single fully-connected MON, MNIST"
   ]
  },
  {
   "cell_type": "code",
   "execution_count": 11,
   "metadata": {
    "collapsed": false,
    "jupyter": {
     "outputs_hidden": false
    },
    "pycharm": {
     "name": "#%%\n"
    }
   },
   "outputs": [
    {
     "name": "stdout",
     "output_type": "stream",
     "text": [
      "----tuning alpha----\n",
      "current:  1.0\n",
      "alpha: 1.0\t iters: 6\n",
      "alpha: 0.5\t iters: 6\n",
      "alpha: 0.25\t iters: 9\n",
      "setting to:  0.5\n",
      "--------------\n",
      "\n",
      "Train Epoch: 0.21 [12928/60000 (21%)]\tLoss: 0.3294\tError: 12.50\n",
      "Fwd iters: 6.00\tFwd Time: 0.0127\tBkwd Iters: 6.00\tBkwd Time: 0.0062\n",
      "\n",
      "Train Epoch: 0.43 [25728/60000 (43%)]\tLoss: 0.4375\tError: 10.94\n",
      "Fwd iters: 6.00\tFwd Time: 0.0123\tBkwd Iters: 6.00\tBkwd Time: 0.0060\n",
      "\n",
      "----tuning alpha----\n",
      "current:  0.5\n",
      "alpha: 1.0\t iters: 6\n",
      "alpha: 0.5\t iters: 6\n",
      "alpha: 0.25\t iters: 9\n",
      "setting to:  0.5\n",
      "--------------\n",
      "\n",
      "Train Epoch: 0.64 [38528/60000 (64%)]\tLoss: 0.2073\tError: 7.03\n",
      "Fwd iters: 6.00\tFwd Time: 0.0119\tBkwd Iters: 6.00\tBkwd Time: 0.0060\n",
      "\n",
      "Train Epoch: 0.85 [51328/60000 (85%)]\tLoss: 0.1452\tError: 3.91\n",
      "Fwd iters: 6.00\tFwd Time: 0.0123\tBkwd Iters: 6.00\tBkwd Time: 0.0060\n",
      "\n",
      "Tot train time: 23.067858457565308\n",
      "\n",
      "\n",
      "Test set: Average loss: 0.1840, Error: 557/10000 (5.57%)\n",
      "Tot test time: 2.1772100925445557\n",
      "\n",
      "\n",
      "\n",
      "\n"
     ]
    }
   ],
   "source": [
    "trainLoader, testLoader = train.mnist_loaders(train_batch_size=128, test_batch_size=400)\n",
    "\n",
    "train.train(trainLoader, testLoader,\n",
    "      train.SingleFcNet(sp.MONPeacemanRachford,\n",
    "                        in_dim=28**2,\n",
    "                        out_dim=87,\n",
    "                        alpha=1.0,\n",
    "                        max_iter=300,\n",
    "                        tol=1e-2,\n",
    "                        m=1.0),\n",
    "        max_lr=1e-3,\n",
    "        lr_mode='step',\n",
    "        step=10,\n",
    "        change_mo=False,\n",
    "#         epochs=40,\n",
    "        epochs=1,\n",
    "        print_freq=100,\n",
    "        tune_alpha=True)\n"
   ]
  }
 ],
 "metadata": {
  "kernelspec": {
   "display_name": "Python 3",
   "language": "python",
   "name": "python3"
  },
  "language_info": {
   "codemirror_mode": {
    "name": "ipython",
    "version": 3
   },
   "file_extension": ".py",
   "mimetype": "text/x-python",
   "name": "python",
   "nbconvert_exporter": "python",
   "pygments_lexer": "ipython3",
   "version": "3.5.2"
  },
  "pycharm": {
   "stem_cell": {
    "cell_type": "raw",
    "metadata": {
     "collapsed": false
    },
    "source": []
   }
  }
 },
 "nbformat": 4,
 "nbformat_minor": 4
}
